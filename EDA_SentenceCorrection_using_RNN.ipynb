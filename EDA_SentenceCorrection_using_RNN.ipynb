{
 "cells": [
  {
   "cell_type": "markdown",
   "metadata": {},
   "source": [
    "# Sentence Correction using RNN"
   ]
  },
  {
   "cell_type": "markdown",
   "metadata": {},
   "source": [
    "## Problem Statement:"
   ]
  },
  {
   "cell_type": "markdown",
   "metadata": {},
   "source": [
    "Given a text message that contains corruputed english language(like social media text messages), we need to convert those \n",
    "messages to standard Standard English text."
   ]
  },
  {
   "cell_type": "markdown",
   "metadata": {},
   "source": [
    "## Data Overview:"
   ]
  },
  {
   "cell_type": "markdown",
   "metadata": {},
   "source": [
    "In this Modern World everything has become Digitalized.\n",
    "Everyone in the World has atleast one Mobile phone or computer.Due to \n",
    "evolution, messages to be delivered to people are done via Mobile phones or \n",
    "computers.These are fast and easy way for communication. Moreover most of the \n",
    "pepole in world now started to use short forms for conveying messages. So \n",
    "while performing various NLP based text Problems, the words need better text preprocessing \n",
    "to get better performance.So by using various RNN \n",
    "techniques we can improve the text or correct the incorrect text to a standard\n",
    "English so that it can help ML or DL to get better Performance on NLP based \n",
    "Models.\n",
    "\n",
    "The dataset is around 2000 text messages which contains both incorrect and correct sentence.\n",
    "\n",
    "**Example1:**\n",
    "\n",
    "-->***Input***:'U wan me to \"chop\" seat 4 u nt?'\n",
    "\n",
    "-->***Output:***'Do you want me to reserve seat for you or not?'\n",
    "\n",
    "**Example2:**\n",
    "    \n",
    "-->***Input:***'Yup. U reaching. We order some durian pastry already. U come quick.'\n",
    "\n",
    "-->***Output:***'Yeap. You reaching? We ordered some Durian pastry already. You come quick.'"
   ]
  },
  {
   "cell_type": "markdown",
   "metadata": {},
   "source": [
    "## Business Objective and Constraints:"
   ]
  },
  {
   "cell_type": "markdown",
   "metadata": {},
   "source": [
    "Since this could be used for preprocessing there is not much requirement for very faster results."
   ]
  },
  {
   "cell_type": "code",
   "execution_count": 1,
   "metadata": {},
   "outputs": [],
   "source": [
    "#Importing necessary Libraries\n",
    "import numpy as np\n",
    "import pandas as pd\n",
    "import datetime\n",
    "import matplotlib.pyplot as plt\n",
    "import seaborn as sns\n",
    "import os\n",
    "import pickle\n",
    "import tqdm\n",
    "from sklearn.feature_extraction.text import CountVectorizer,TfidfVectorizer\n",
    "%matplotlib inline"
   ]
  },
  {
   "cell_type": "code",
   "execution_count": 2,
   "metadata": {},
   "outputs": [],
   "source": [
    "#In the text file the source text(corrupted text) are arranged as 1st line, 4th line, 7th line......etc.\n",
    "#Same way the target text(standard English) are arranged as 2nd line,5th line,8th line......etc.\n",
    "#So we need extract them from files,\n",
    "#And store them in seperate list.\n",
    "with open('sentencecorrection.txt', encoding=\"utf8\") as f:#reading the files\n",
    "    source=[]#for storing source text\n",
    "    target=[]#for storing target text\n",
    "    for i,j in enumerate(f):#looping over every lines\n",
    "        if i%3==0:\n",
    "            source.append(j)#appending the lines which contains source text\n",
    "        if i%3==1:\n",
    "            target.append(j)#appending the lines which contains target text"
   ]
  },
  {
   "cell_type": "code",
   "execution_count": 3,
   "metadata": {},
   "outputs": [
    {
     "data": {
      "text/plain": [
       "['U wan me to \"chop\" seat 4 u nt?\\n',\n",
       " 'Yup. U reaching. We order some durian pastry already. U come quick.\\n',\n",
       " 'They become more ex oredi... Mine is like 25... So horrible n they did less things than last time...\\n',\n",
       " \"I'm thai. what do u do?\\n\"]"
      ]
     },
     "execution_count": 3,
     "metadata": {},
     "output_type": "execute_result"
    }
   ],
   "source": [
    "source[:4]#first four source text"
   ]
  },
  {
   "cell_type": "code",
   "execution_count": 4,
   "metadata": {},
   "outputs": [
    {
     "data": {
      "text/plain": [
       "['Do you want me to reserve seat for you or not?\\n',\n",
       " 'Yeap. You reaching? We ordered some Durian pastry already. You come quick.\\n',\n",
       " 'They become more expensive already. Mine is like 25. So horrible and they did less things than I did last time.\\n',\n",
       " \"I'm Thai. What do you do?\\n\"]"
      ]
     },
     "execution_count": 4,
     "metadata": {},
     "output_type": "execute_result"
    }
   ],
   "source": [
    "target[:4]#first four target text"
   ]
  },
  {
   "cell_type": "code",
   "execution_count": 30,
   "metadata": {},
   "outputs": [],
   "source": [
    "data={'source':source,'target':target}\n",
    "df=pd.DataFrame(data)#creating DataFrame using the data"
   ]
  },
  {
   "cell_type": "code",
   "execution_count": 31,
   "metadata": {
    "scrolled": true
   },
   "outputs": [
    {
     "data": {
      "text/html": [
       "<div>\n",
       "<style scoped>\n",
       "    .dataframe tbody tr th:only-of-type {\n",
       "        vertical-align: middle;\n",
       "    }\n",
       "\n",
       "    .dataframe tbody tr th {\n",
       "        vertical-align: top;\n",
       "    }\n",
       "\n",
       "    .dataframe thead th {\n",
       "        text-align: right;\n",
       "    }\n",
       "</style>\n",
       "<table border=\"1\" class=\"dataframe\">\n",
       "  <thead>\n",
       "    <tr style=\"text-align: right;\">\n",
       "      <th></th>\n",
       "      <th>source</th>\n",
       "      <th>target</th>\n",
       "    </tr>\n",
       "  </thead>\n",
       "  <tbody>\n",
       "    <tr>\n",
       "      <th>0</th>\n",
       "      <td>U wan me to \"chop\" seat 4 u nt?\\n</td>\n",
       "      <td>Do you want me to reserve seat for you or not?\\n</td>\n",
       "    </tr>\n",
       "    <tr>\n",
       "      <th>1</th>\n",
       "      <td>Yup. U reaching. We order some durian pastry a...</td>\n",
       "      <td>Yeap. You reaching? We ordered some Durian pas...</td>\n",
       "    </tr>\n",
       "    <tr>\n",
       "      <th>2</th>\n",
       "      <td>They become more ex oredi... Mine is like 25.....</td>\n",
       "      <td>They become more expensive already. Mine is li...</td>\n",
       "    </tr>\n",
       "    <tr>\n",
       "      <th>3</th>\n",
       "      <td>I'm thai. what do u do?\\n</td>\n",
       "      <td>I'm Thai. What do you do?\\n</td>\n",
       "    </tr>\n",
       "  </tbody>\n",
       "</table>\n",
       "</div>"
      ],
      "text/plain": [
       "                                              source  \\\n",
       "0                  U wan me to \"chop\" seat 4 u nt?\\n   \n",
       "1  Yup. U reaching. We order some durian pastry a...   \n",
       "2  They become more ex oredi... Mine is like 25.....   \n",
       "3                          I'm thai. what do u do?\\n   \n",
       "\n",
       "                                              target  \n",
       "0   Do you want me to reserve seat for you or not?\\n  \n",
       "1  Yeap. You reaching? We ordered some Durian pas...  \n",
       "2  They become more expensive already. Mine is li...  \n",
       "3                        I'm Thai. What do you do?\\n  "
      ]
     },
     "execution_count": 31,
     "metadata": {},
     "output_type": "execute_result"
    }
   ],
   "source": [
    "df.head(4)#displaying four rows"
   ]
  },
  {
   "cell_type": "code",
   "execution_count": 7,
   "metadata": {},
   "outputs": [],
   "source": [
    "df.to_csv('preprocessed_data.csv')"
   ]
  },
  {
   "cell_type": "code",
   "execution_count": 8,
   "metadata": {},
   "outputs": [
    {
     "name": "stdout",
     "output_type": "stream",
     "text": [
      "No of data points:\n",
      "(2000, 2)\n"
     ]
    }
   ],
   "source": [
    "print(\"No of data points:\")\n",
    "print(df.shape)#shape if the dataset"
   ]
  },
  {
   "cell_type": "code",
   "execution_count": 9,
   "metadata": {},
   "outputs": [
    {
     "name": "stdout",
     "output_type": "stream",
     "text": [
      "<class 'pandas.core.frame.DataFrame'>\n",
      "RangeIndex: 2000 entries, 0 to 1999\n",
      "Data columns (total 2 columns):\n",
      " #   Column  Non-Null Count  Dtype \n",
      "---  ------  --------------  ----- \n",
      " 0   source  2000 non-null   object\n",
      " 1   target  2000 non-null   object\n",
      "dtypes: object(2)\n",
      "memory usage: 31.4+ KB\n"
     ]
    }
   ],
   "source": [
    "df.info()#info about the dataset"
   ]
  },
  {
   "cell_type": "code",
   "execution_count": 10,
   "metadata": {},
   "outputs": [
    {
     "data": {
      "text/plain": [
       "source    0\n",
       "target    0\n",
       "dtype: int64"
      ]
     },
     "execution_count": 10,
     "metadata": {},
     "output_type": "execute_result"
    }
   ],
   "source": [
    "df.isnull().sum()#checking for null values"
   ]
  },
  {
   "cell_type": "markdown",
   "metadata": {},
   "source": [
    "### Words count for each sentence(Source):"
   ]
  },
  {
   "cell_type": "code",
   "execution_count": 11,
   "metadata": {},
   "outputs": [
    {
     "data": {
      "image/png": "[encoded data removed]",
      "text/plain": [
       "<Figure size 432x288 with 1 Axes>"
      ]
     },
     "metadata": {
      "needs_background": "light"
     },
     "output_type": "display_data"
    }
   ],
   "source": [
    "df['source'].str.split().apply(len).hist()#creating a histogram plot of count of words in the whole text data.\n",
    "plt.title('Count of number of words in each source')\n",
    "plt.xlabel('Number of words')\n",
    "plt.show()"
   ]
  },
  {
   "cell_type": "markdown",
   "metadata": {},
   "source": [
    "### Word count for each sentence(Target):"
   ]
  },
  {
   "cell_type": "code",
   "execution_count": 12,
   "metadata": {},
   "outputs": [
    {
     "data": {
      "image/png": "[encoded data removed]",
      "text/plain": [
       "<Figure size 432x288 with 1 Axes>"
      ]
     },
     "metadata": {
      "needs_background": "light"
     },
     "output_type": "display_data"
    }
   ],
   "source": [
    "df['target'].str.split().apply(len).hist()#creating a histogram plot of count of words in the whole text data.\n",
    "plt.title('Count of number of words in each source')\n",
    "plt.xlabel('Number of words')\n",
    "plt.show()"
   ]
  },
  {
   "cell_type": "markdown",
   "metadata": {},
   "source": [
    "**Observation:**\n",
    "\n",
    "    -->From the above plots we can see the Count of no of number of words in source varies between 0 to 50 and in target the Count of number of words varies between 0 to 60 and their distibution are mostly similar since the target is just correted sentence of the source."
   ]
  },
  {
   "cell_type": "code",
   "execution_count": 13,
   "metadata": {},
   "outputs": [],
   "source": [
    "def length(text):#for calculating the length of the sentence\n",
    "    return len(str(text))"
   ]
  },
  {
   "cell_type": "markdown",
   "metadata": {},
   "source": [
    "### Characters count for each sentence(Source):"
   ]
  },
  {
   "cell_type": "code",
   "execution_count": 14,
   "metadata": {},
   "outputs": [
    {
     "data": {
      "image/png": "[encoded data removed]",
      "text/plain": [
       "<Figure size 432x288 with 1 Axes>"
      ]
     },
     "metadata": {
      "needs_background": "light"
     },
     "output_type": "display_data"
    }
   ],
   "source": [
    "df['source'].apply(length).hist()#creating a histogram plot of count of words in the whole text data.\n",
    "plt.title('Count of number of characters in each source sentence')\n",
    "plt.xlabel('Number of words')\n",
    "plt.show()"
   ]
  },
  {
   "cell_type": "markdown",
   "metadata": {},
   "source": [
    "### Characters count for each sentence(Target):"
   ]
  },
  {
   "cell_type": "code",
   "execution_count": 15,
   "metadata": {},
   "outputs": [
    {
     "data": {
      "image/png": "[encoded data removed]",
      "text/plain": [
       "<Figure size 432x288 with 1 Axes>"
      ]
     },
     "metadata": {
      "needs_background": "light"
     },
     "output_type": "display_data"
    }
   ],
   "source": [
    "df['target'].apply(length).hist()#creating a histogram plot of count of words in the whole text data.\n",
    "plt.title('Count of number of characters in each target sentence')\n",
    "plt.xlabel('Number of words')\n",
    "plt.show()"
   ]
  },
  {
   "cell_type": "markdown",
   "metadata": {},
   "source": [
    "**Observation:**\n",
    "\n",
    "    -->From the above plots we can see that the Count of number of characters in each source sentence varies between \n",
    "    0 to 2400 and similar way target sentence varies between 0 to 270.\n",
    "    "
   ]
  },
  {
   "cell_type": "code",
   "execution_count": 16,
   "metadata": {},
   "outputs": [
    {
     "name": "stdout",
     "output_type": "stream",
     "text": [
      "No of data points remaining if we remove sentences of length greater than 150:  1907\n",
      "No of data points remaining if we remove sentences of length greater than 160:  1977\n",
      "No of data points remaining if we remove sentences of length greater than 170:  1996\n",
      "No of data points remaining if we remove sentences of length greater than 180:  1997\n"
     ]
    }
   ],
   "source": [
    "print(\"No of data points remaining if we remove sentences of length greater than 150: \",len(df[df['source'].apply(length)<150]))\n",
    "print(\"No of data points remaining if we remove sentences of length greater than 160: \",len(df[df['source'].apply(length)<160]))\n",
    "print(\"No of data points remaining if we remove sentences of length greater than 170: \",len(df[df['source'].apply(length)<170]))\n",
    "print(\"No of data points remaining if we remove sentences of length greater than 180: \",len(df[df['source'].apply(length)<180]))"
   ]
  },
  {
   "cell_type": "code",
   "execution_count": 17,
   "metadata": {},
   "outputs": [
    {
     "name": "stdout",
     "output_type": "stream",
     "text": [
      "No of data points remaining if we remove sentences of length greater than 160:  1885\n",
      "No of data points remaining if we remove sentences of length greater than 170:  1937\n",
      "No of data points remaining if we remove sentences of length greater than 180:  1958\n",
      "No of data points remaining if we remove sentences of length greater than 190:  1978\n",
      "No of data points remaining if we remove sentences of length greater than 200:  1990\n",
      "No of data points remaining if we remove sentences of length greater than 210:  1995\n"
     ]
    }
   ],
   "source": [
    "print(\"No of data points remaining if we remove sentences of length greater than 160: \",len(df[df['target'].apply(length)<160]))\n",
    "print(\"No of data points remaining if we remove sentences of length greater than 170: \",len(df[df['target'].apply(length)<170]))\n",
    "print(\"No of data points remaining if we remove sentences of length greater than 180: \",len(df[df['target'].apply(length)<180]))\n",
    "print(\"No of data points remaining if we remove sentences of length greater than 190: \",len(df[df['target'].apply(length)<190]))\n",
    "print(\"No of data points remaining if we remove sentences of length greater than 200: \",len(df[df['target'].apply(length)<200]))\n",
    "print(\"No of data points remaining if we remove sentences of length greater than 210: \",len(df[df['target'].apply(length)<210]))"
   ]
  },
  {
   "cell_type": "markdown",
   "metadata": {},
   "source": [
    "### Frequently occuring words in Source:"
   ]
  },
  {
   "cell_type": "code",
   "execution_count": 18,
   "metadata": {},
   "outputs": [
    {
     "data": {
      "text/html": [
       "<div>\n",
       "<style scoped>\n",
       "    .dataframe tbody tr th:only-of-type {\n",
       "        vertical-align: middle;\n",
       "    }\n",
       "\n",
       "    .dataframe tbody tr th {\n",
       "        vertical-align: top;\n",
       "    }\n",
       "\n",
       "    .dataframe thead th {\n",
       "        text-align: right;\n",
       "    }\n",
       "</style>\n",
       "<table border=\"1\" class=\"dataframe\">\n",
       "  <thead>\n",
       "    <tr style=\"text-align: right;\">\n",
       "      <th></th>\n",
       "      <th>0</th>\n",
       "    </tr>\n",
       "  </thead>\n",
       "  <tbody>\n",
       "    <tr>\n",
       "      <th>to</th>\n",
       "      <td>505</td>\n",
       "    </tr>\n",
       "    <tr>\n",
       "      <th>me</th>\n",
       "      <td>327</td>\n",
       "    </tr>\n",
       "    <tr>\n",
       "      <th>at</th>\n",
       "      <td>258</td>\n",
       "    </tr>\n",
       "    <tr>\n",
       "      <th>my</th>\n",
       "      <td>256</td>\n",
       "    </tr>\n",
       "    <tr>\n",
       "      <th>go</th>\n",
       "      <td>251</td>\n",
       "    </tr>\n",
       "    <tr>\n",
       "      <th>so</th>\n",
       "      <td>247</td>\n",
       "    </tr>\n",
       "    <tr>\n",
       "      <th>can</th>\n",
       "      <td>244</td>\n",
       "    </tr>\n",
       "    <tr>\n",
       "      <th>the</th>\n",
       "      <td>193</td>\n",
       "    </tr>\n",
       "    <tr>\n",
       "      <th>you</th>\n",
       "      <td>191</td>\n",
       "    </tr>\n",
       "    <tr>\n",
       "      <th>not</th>\n",
       "      <td>182</td>\n",
       "    </tr>\n",
       "    <tr>\n",
       "      <th>haha</th>\n",
       "      <td>178</td>\n",
       "    </tr>\n",
       "    <tr>\n",
       "      <th>got</th>\n",
       "      <td>178</td>\n",
       "    </tr>\n",
       "    <tr>\n",
       "      <th>in</th>\n",
       "      <td>176</td>\n",
       "    </tr>\n",
       "    <tr>\n",
       "      <th>hey</th>\n",
       "      <td>175</td>\n",
       "    </tr>\n",
       "    <tr>\n",
       "      <th>it</th>\n",
       "      <td>173</td>\n",
       "    </tr>\n",
       "    <tr>\n",
       "      <th>for</th>\n",
       "      <td>169</td>\n",
       "    </tr>\n",
       "    <tr>\n",
       "      <th>is</th>\n",
       "      <td>155</td>\n",
       "    </tr>\n",
       "    <tr>\n",
       "      <th>ur</th>\n",
       "      <td>154</td>\n",
       "    </tr>\n",
       "    <tr>\n",
       "      <th>lor</th>\n",
       "      <td>147</td>\n",
       "    </tr>\n",
       "    <tr>\n",
       "      <th>wat</th>\n",
       "      <td>146</td>\n",
       "    </tr>\n",
       "    <tr>\n",
       "      <th>on</th>\n",
       "      <td>144</td>\n",
       "    </tr>\n",
       "    <tr>\n",
       "      <th>but</th>\n",
       "      <td>141</td>\n",
       "    </tr>\n",
       "    <tr>\n",
       "      <th>now</th>\n",
       "      <td>140</td>\n",
       "    </tr>\n",
       "    <tr>\n",
       "      <th>ok</th>\n",
       "      <td>140</td>\n",
       "    </tr>\n",
       "    <tr>\n",
       "      <th>time</th>\n",
       "      <td>139</td>\n",
       "    </tr>\n",
       "    <tr>\n",
       "      <th>then</th>\n",
       "      <td>138</td>\n",
       "    </tr>\n",
       "    <tr>\n",
       "      <th>we</th>\n",
       "      <td>138</td>\n",
       "    </tr>\n",
       "    <tr>\n",
       "      <th>how</th>\n",
       "      <td>137</td>\n",
       "    </tr>\n",
       "    <tr>\n",
       "      <th>no</th>\n",
       "      <td>136</td>\n",
       "    </tr>\n",
       "    <tr>\n",
       "      <th>of</th>\n",
       "      <td>127</td>\n",
       "    </tr>\n",
       "    <tr>\n",
       "      <th>or</th>\n",
       "      <td>125</td>\n",
       "    </tr>\n",
       "    <tr>\n",
       "      <th>if</th>\n",
       "      <td>117</td>\n",
       "    </tr>\n",
       "    <tr>\n",
       "      <th>one</th>\n",
       "      <td>104</td>\n",
       "    </tr>\n",
       "    <tr>\n",
       "      <th>ah</th>\n",
       "      <td>103</td>\n",
       "    </tr>\n",
       "    <tr>\n",
       "      <th>dun</th>\n",
       "      <td>102</td>\n",
       "    </tr>\n",
       "    <tr>\n",
       "      <th>hi</th>\n",
       "      <td>101</td>\n",
       "    </tr>\n",
       "    <tr>\n",
       "      <th>la</th>\n",
       "      <td>101</td>\n",
       "    </tr>\n",
       "    <tr>\n",
       "      <th>den</th>\n",
       "      <td>97</td>\n",
       "    </tr>\n",
       "    <tr>\n",
       "      <th>will</th>\n",
       "      <td>96</td>\n",
       "    </tr>\n",
       "    <tr>\n",
       "      <th>meet</th>\n",
       "      <td>95</td>\n",
       "    </tr>\n",
       "  </tbody>\n",
       "</table>\n",
       "</div>"
      ],
      "text/plain": [
       "        0\n",
       "to    505\n",
       "me    327\n",
       "at    258\n",
       "my    256\n",
       "go    251\n",
       "so    247\n",
       "can   244\n",
       "the   193\n",
       "you   191\n",
       "not   182\n",
       "haha  178\n",
       "got   178\n",
       "in    176\n",
       "hey   175\n",
       "it    173\n",
       "for   169\n",
       "is    155\n",
       "ur    154\n",
       "lor   147\n",
       "wat   146\n",
       "on    144\n",
       "but   141\n",
       "now   140\n",
       "ok    140\n",
       "time  139\n",
       "then  138\n",
       "we    138\n",
       "how   137\n",
       "no    136\n",
       "of    127\n",
       "or    125\n",
       "if    117\n",
       "one   104\n",
       "ah    103\n",
       "dun   102\n",
       "hi    101\n",
       "la    101\n",
       "den    97\n",
       "will   96\n",
       "meet   95"
      ]
     },
     "execution_count": 18,
     "metadata": {},
     "output_type": "execute_result"
    }
   ],
   "source": [
    "vect=CountVectorizer()#in the presence of stop words\n",
    "output=vect.fit_transform(df['source'])\n",
    "features=vect.get_feature_names()#here we are getting the unique feature names\n",
    "\n",
    "#https://stackoverflow.com/questions/27488446/how-do-i-get-word-frequency-in-a-corpus-using-scikit-learn-countvectorizer\n",
    "count=output.toarray().sum(axis=0)#here we are getting the count of unique words\n",
    "\n",
    "df=pd.DataFrame(count,features)#Loading the feature and count to the DataFrame\n",
    "df=df.sort_values(by=0,ascending=False)#Sorting the DataFrame to get the most occurances\n",
    "df=df[:40]#Top 40 words with most word count\n",
    "df"
   ]
  },
  {
   "cell_type": "code",
   "execution_count": 19,
   "metadata": {},
   "outputs": [
    {
     "data": {
      "image/png": "[encoded data removed]",
      "text/plain": [
       "<Figure size 864x576 with 1 Axes>"
      ]
     },
     "metadata": {
      "needs_background": "light"
     },
     "output_type": "display_data"
    }
   ],
   "source": [
    "x=df.index#getting only the top 40 feature names\n",
    "y=[df[0][i] for i in range(len(df))]#getting the count of top 40 feature names\n",
    "plt.figure(figsize=(12,8))\n",
    "sns.barplot(x=y,y=x)\n",
    "plt.title('Top 40 Features')\n",
    "plt.xlabel('Count')\n",
    "plt.ylabel('Feature Names')\n",
    "plt.show()"
   ]
  },
  {
   "cell_type": "markdown",
   "metadata": {},
   "source": [
    "### Frequently occuring words in Target:"
   ]
  },
  {
   "cell_type": "code",
   "execution_count": 23,
   "metadata": {},
   "outputs": [
    {
     "data": {
      "text/html": [
       "<div>\n",
       "<style scoped>\n",
       "    .dataframe tbody tr th:only-of-type {\n",
       "        vertical-align: middle;\n",
       "    }\n",
       "\n",
       "    .dataframe tbody tr th {\n",
       "        vertical-align: top;\n",
       "    }\n",
       "\n",
       "    .dataframe thead th {\n",
       "        text-align: right;\n",
       "    }\n",
       "</style>\n",
       "<table border=\"1\" class=\"dataframe\">\n",
       "  <thead>\n",
       "    <tr style=\"text-align: right;\">\n",
       "      <th></th>\n",
       "      <th>0</th>\n",
       "    </tr>\n",
       "  </thead>\n",
       "  <tbody>\n",
       "    <tr>\n",
       "      <th>you</th>\n",
       "      <td>1469</td>\n",
       "    </tr>\n",
       "    <tr>\n",
       "      <th>to</th>\n",
       "      <td>850</td>\n",
       "    </tr>\n",
       "    <tr>\n",
       "      <th>the</th>\n",
       "      <td>498</td>\n",
       "    </tr>\n",
       "    <tr>\n",
       "      <th>are</th>\n",
       "      <td>412</td>\n",
       "    </tr>\n",
       "    <tr>\n",
       "      <th>is</th>\n",
       "      <td>334</td>\n",
       "    </tr>\n",
       "    <tr>\n",
       "      <th>it</th>\n",
       "      <td>324</td>\n",
       "    </tr>\n",
       "    <tr>\n",
       "      <th>and</th>\n",
       "      <td>310</td>\n",
       "    </tr>\n",
       "    <tr>\n",
       "      <th>me</th>\n",
       "      <td>302</td>\n",
       "    </tr>\n",
       "    <tr>\n",
       "      <th>for</th>\n",
       "      <td>297</td>\n",
       "    </tr>\n",
       "    <tr>\n",
       "      <th>can</th>\n",
       "      <td>294</td>\n",
       "    </tr>\n",
       "    <tr>\n",
       "      <th>at</th>\n",
       "      <td>291</td>\n",
       "    </tr>\n",
       "    <tr>\n",
       "      <th>my</th>\n",
       "      <td>262</td>\n",
       "    </tr>\n",
       "    <tr>\n",
       "      <th>so</th>\n",
       "      <td>258</td>\n",
       "    </tr>\n",
       "    <tr>\n",
       "      <th>then</th>\n",
       "      <td>246</td>\n",
       "    </tr>\n",
       "    <tr>\n",
       "      <th>your</th>\n",
       "      <td>239</td>\n",
       "    </tr>\n",
       "    <tr>\n",
       "      <th>go</th>\n",
       "      <td>238</td>\n",
       "    </tr>\n",
       "    <tr>\n",
       "      <th>not</th>\n",
       "      <td>221</td>\n",
       "    </tr>\n",
       "    <tr>\n",
       "      <th>have</th>\n",
       "      <td>212</td>\n",
       "    </tr>\n",
       "    <tr>\n",
       "      <th>what</th>\n",
       "      <td>206</td>\n",
       "    </tr>\n",
       "    <tr>\n",
       "      <th>don</th>\n",
       "      <td>204</td>\n",
       "    </tr>\n",
       "    <tr>\n",
       "      <th>ok</th>\n",
       "      <td>202</td>\n",
       "    </tr>\n",
       "    <tr>\n",
       "      <th>want</th>\n",
       "      <td>190</td>\n",
       "    </tr>\n",
       "    <tr>\n",
       "      <th>in</th>\n",
       "      <td>188</td>\n",
       "    </tr>\n",
       "    <tr>\n",
       "      <th>haha</th>\n",
       "      <td>183</td>\n",
       "    </tr>\n",
       "    <tr>\n",
       "      <th>that</th>\n",
       "      <td>178</td>\n",
       "    </tr>\n",
       "    <tr>\n",
       "      <th>do</th>\n",
       "      <td>175</td>\n",
       "    </tr>\n",
       "    <tr>\n",
       "      <th>hey</th>\n",
       "      <td>172</td>\n",
       "    </tr>\n",
       "    <tr>\n",
       "      <th>going</th>\n",
       "      <td>170</td>\n",
       "    </tr>\n",
       "    <tr>\n",
       "      <th>how</th>\n",
       "      <td>161</td>\n",
       "    </tr>\n",
       "    <tr>\n",
       "      <th>of</th>\n",
       "      <td>160</td>\n",
       "    </tr>\n",
       "    <tr>\n",
       "      <th>be</th>\n",
       "      <td>158</td>\n",
       "    </tr>\n",
       "    <tr>\n",
       "      <th>now</th>\n",
       "      <td>153</td>\n",
       "    </tr>\n",
       "    <tr>\n",
       "      <th>on</th>\n",
       "      <td>152</td>\n",
       "    </tr>\n",
       "    <tr>\n",
       "      <th>or</th>\n",
       "      <td>151</td>\n",
       "    </tr>\n",
       "    <tr>\n",
       "      <th>we</th>\n",
       "      <td>149</td>\n",
       "    </tr>\n",
       "    <tr>\n",
       "      <th>but</th>\n",
       "      <td>149</td>\n",
       "    </tr>\n",
       "    <tr>\n",
       "      <th>just</th>\n",
       "      <td>148</td>\n",
       "    </tr>\n",
       "    <tr>\n",
       "      <th>will</th>\n",
       "      <td>146</td>\n",
       "    </tr>\n",
       "    <tr>\n",
       "      <th>know</th>\n",
       "      <td>142</td>\n",
       "    </tr>\n",
       "    <tr>\n",
       "      <th>got</th>\n",
       "      <td>142</td>\n",
       "    </tr>\n",
       "  </tbody>\n",
       "</table>\n",
       "</div>"
      ],
      "text/plain": [
       "          0\n",
       "you    1469\n",
       "to      850\n",
       "the     498\n",
       "are     412\n",
       "is      334\n",
       "it      324\n",
       "and     310\n",
       "me      302\n",
       "for     297\n",
       "can     294\n",
       "at      291\n",
       "my      262\n",
       "so      258\n",
       "then    246\n",
       "your    239\n",
       "go      238\n",
       "not     221\n",
       "have    212\n",
       "what    206\n",
       "don     204\n",
       "ok      202\n",
       "want    190\n",
       "in      188\n",
       "haha    183\n",
       "that    178\n",
       "do      175\n",
       "hey     172\n",
       "going   170\n",
       "how     161\n",
       "of      160\n",
       "be      158\n",
       "now     153\n",
       "on      152\n",
       "or      151\n",
       "we      149\n",
       "but     149\n",
       "just    148\n",
       "will    146\n",
       "know    142\n",
       "got     142"
      ]
     },
     "execution_count": 23,
     "metadata": {},
     "output_type": "execute_result"
    }
   ],
   "source": [
    "vect=CountVectorizer()#in the presence of stop words\n",
    "output=vect.fit_transform(df['target'])\n",
    "features=vect.get_feature_names()#here we are getting the unique feature names\n",
    "\n",
    "#https://stackoverflow.com/questions/27488446/how-do-i-get-word-frequency-in-a-corpus-using-scikit-learn-countvectorizer\n",
    "count=output.toarray().sum(axis=0)#here we are getting the count of unique words\n",
    "\n",
    "df=pd.DataFrame(count,features)#Loading the feature and count to the DataFrame\n",
    "df=df.sort_values(by=0,ascending=False)#Sorting the DataFrame to get the most occurances\n",
    "df=df[:40]#Top 40 words with most word count\n",
    "df"
   ]
  },
  {
   "cell_type": "code",
   "execution_count": 24,
   "metadata": {},
   "outputs": [
    {
     "data": {
      "image/png": "[encoded data removed]",
      "text/plain": [
       "<Figure size 864x576 with 1 Axes>"
      ]
     },
     "metadata": {
      "needs_background": "light"
     },
     "output_type": "display_data"
    }
   ],
   "source": [
    "x=df.index#getting only the top 40 feature names\n",
    "y=[df[0][i] for i in range(len(df))]#getting the count of top 40 feature names\n",
    "plt.figure(figsize=(12,8))\n",
    "sns.barplot(x=y,y=x)\n",
    "plt.title('Top 40 Features')\n",
    "plt.xlabel('Count')\n",
    "plt.ylabel('Feature Names')\n",
    "plt.show()"
   ]
  },
  {
   "cell_type": "markdown",
   "metadata": {},
   "source": [
    "**Observation:**\n",
    "\n",
    "    By using the Count Vectorizer, we are getting the Top 40 Features that occur more frequently in the source and target.\n",
    "    The above plots shows the words that are frequently occuring in the whole corpus."
   ]
  },
  {
   "cell_type": "markdown",
   "metadata": {},
   "source": [
    "### Rare words in Source:"
   ]
  },
  {
   "cell_type": "code",
   "execution_count": 28,
   "metadata": {},
   "outputs": [
    {
     "data": {
      "text/html": [
       "<div>\n",
       "<style scoped>\n",
       "    .dataframe tbody tr th:only-of-type {\n",
       "        vertical-align: middle;\n",
       "    }\n",
       "\n",
       "    .dataframe tbody tr th {\n",
       "        vertical-align: top;\n",
       "    }\n",
       "\n",
       "    .dataframe thead th {\n",
       "        text-align: right;\n",
       "    }\n",
       "</style>\n",
       "<table border=\"1\" class=\"dataframe\">\n",
       "  <thead>\n",
       "    <tr style=\"text-align: right;\">\n",
       "      <th></th>\n",
       "      <th>0</th>\n",
       "    </tr>\n",
       "  </thead>\n",
       "  <tbody>\n",
       "    <tr>\n",
       "      <th>000pes</th>\n",
       "      <td>7.908255</td>\n",
       "    </tr>\n",
       "    <tr>\n",
       "      <th>matthew</th>\n",
       "      <td>7.908255</td>\n",
       "    </tr>\n",
       "    <tr>\n",
       "      <th>marketin</th>\n",
       "      <td>7.908255</td>\n",
       "    </tr>\n",
       "    <tr>\n",
       "      <th>marshmallow</th>\n",
       "      <td>7.908255</td>\n",
       "    </tr>\n",
       "    <tr>\n",
       "      <th>match</th>\n",
       "      <td>7.908255</td>\n",
       "    </tr>\n",
       "    <tr>\n",
       "      <th>math</th>\n",
       "      <td>7.908255</td>\n",
       "    </tr>\n",
       "    <tr>\n",
       "      <th>maths</th>\n",
       "      <td>7.908255</td>\n",
       "    </tr>\n",
       "    <tr>\n",
       "      <th>matric</th>\n",
       "      <td>7.908255</td>\n",
       "    </tr>\n",
       "    <tr>\n",
       "      <th>matriculation</th>\n",
       "      <td>7.908255</td>\n",
       "    </tr>\n",
       "    <tr>\n",
       "      <th>maxy</th>\n",
       "      <td>7.908255</td>\n",
       "    </tr>\n",
       "  </tbody>\n",
       "</table>\n",
       "</div>"
      ],
      "text/plain": [
       "                      0\n",
       "000pes         7.908255\n",
       "matthew        7.908255\n",
       "marketin       7.908255\n",
       "marshmallow    7.908255\n",
       "match          7.908255\n",
       "math           7.908255\n",
       "maths          7.908255\n",
       "matric         7.908255\n",
       "matriculation  7.908255\n",
       "maxy           7.908255"
      ]
     },
     "execution_count": 28,
     "metadata": {},
     "output_type": "execute_result"
    }
   ],
   "source": [
    "#here we are using TfidfVectorizer and fitting to source corpus and finding the rare words\n",
    "from nltk.corpus import stopwords\n",
    "vect=TfidfVectorizer()\n",
    "output=vect.fit_transform(df['source'])\n",
    "features=vect.get_feature_names()\n",
    "idf_values=vect.idf_\n",
    "df=pd.DataFrame(idf_values,features)\n",
    "df=df.sort_values(by=0,ascending=False)\n",
    "df=df[:10]\n",
    "df"
   ]
  },
  {
   "cell_type": "code",
   "execution_count": 32,
   "metadata": {},
   "outputs": [
    {
     "data": {
      "text/html": [
       "<div>\n",
       "<style scoped>\n",
       "    .dataframe tbody tr th:only-of-type {\n",
       "        vertical-align: middle;\n",
       "    }\n",
       "\n",
       "    .dataframe tbody tr th {\n",
       "        vertical-align: top;\n",
       "    }\n",
       "\n",
       "    .dataframe thead th {\n",
       "        text-align: right;\n",
       "    }\n",
       "</style>\n",
       "<table border=\"1\" class=\"dataframe\">\n",
       "  <thead>\n",
       "    <tr style=\"text-align: right;\">\n",
       "      <th></th>\n",
       "      <th>0</th>\n",
       "    </tr>\n",
       "  </thead>\n",
       "  <tbody>\n",
       "    <tr>\n",
       "      <th>00</th>\n",
       "      <td>7.908255</td>\n",
       "    </tr>\n",
       "    <tr>\n",
       "      <th>malayu</th>\n",
       "      <td>7.908255</td>\n",
       "    </tr>\n",
       "    <tr>\n",
       "      <th>materials</th>\n",
       "      <td>7.908255</td>\n",
       "    </tr>\n",
       "    <tr>\n",
       "      <th>match</th>\n",
       "      <td>7.908255</td>\n",
       "    </tr>\n",
       "    <tr>\n",
       "      <th>mass</th>\n",
       "      <td>7.908255</td>\n",
       "    </tr>\n",
       "    <tr>\n",
       "      <th>marshmallow</th>\n",
       "      <td>7.908255</td>\n",
       "    </tr>\n",
       "    <tr>\n",
       "      <th>marketing</th>\n",
       "      <td>7.908255</td>\n",
       "    </tr>\n",
       "    <tr>\n",
       "      <th>marine</th>\n",
       "      <td>7.908255</td>\n",
       "    </tr>\n",
       "    <tr>\n",
       "      <th>marina</th>\n",
       "      <td>7.908255</td>\n",
       "    </tr>\n",
       "    <tr>\n",
       "      <th>march</th>\n",
       "      <td>7.908255</td>\n",
       "    </tr>\n",
       "  </tbody>\n",
       "</table>\n",
       "</div>"
      ],
      "text/plain": [
       "                    0\n",
       "00           7.908255\n",
       "malayu       7.908255\n",
       "materials    7.908255\n",
       "match        7.908255\n",
       "mass         7.908255\n",
       "marshmallow  7.908255\n",
       "marketing    7.908255\n",
       "marine       7.908255\n",
       "marina       7.908255\n",
       "march        7.908255"
      ]
     },
     "execution_count": 32,
     "metadata": {},
     "output_type": "execute_result"
    }
   ],
   "source": [
    "#here we are using TfidfVectorizer and fitting to target corpus and finding the rare words\n",
    "from nltk.corpus import stopwords\n",
    "vect=TfidfVectorizer()\n",
    "output=vect.fit_transform(df['target'])\n",
    "features=vect.get_feature_names()\n",
    "idf_values=vect.idf_\n",
    "df=pd.DataFrame(idf_values,features)\n",
    "df=df.sort_values(by=0,ascending=False)\n",
    "df=df[:10]\n",
    "df"
   ]
  },
  {
   "cell_type": "markdown",
   "metadata": {},
   "source": [
    "**Observation:**\n",
    "\n",
    "    By using idf_values we could get the rare words in the whole corupus.Similarly we are getting the rare words for \n",
    "    both source and text."
   ]
  }
 ],
 "metadata": {
  "kernelspec": {
   "display_name": "Python 3",
   "language": "python",
   "name": "python3"
  },
  "language_info": {
   "codemirror_mode": {
    "name": "ipython",
    "version": 3
   },
   "file_extension": ".py",
   "mimetype": "text/x-python",
   "name": "python",
   "nbconvert_exporter": "python",
   "pygments_lexer": "ipython3",
   "version": "3.8.5"
  }
 },
 "nbformat": 4,
 "nbformat_minor": 4
}

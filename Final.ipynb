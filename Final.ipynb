{
 "cells": [
  {
   "cell_type": "code",
   "execution_count": 1,
   "metadata": {
    "colab": {
     "base_uri": "https://localhost:8080/"
    },
    "id": "Cxx7myitnx4h",
    "outputId": "cc33e9c8-e770-4e9e-f497-bd3d05981707"
   },
   "outputs": [
    {
     "name": "stdout",
     "output_type": "stream",
     "text": [
      "Downloading...\n",
      "From: https://drive.google.com/uc?id=1OurDQUtbWQacvT32HMqFL7vIUrSMllOp\n",
      "To: /content/preprocessed_data.csv\n",
      "\r",
      "  0% 0.00/300k [00:00<?, ?B/s]\r",
      "100% 300k/300k [00:00<00:00, 2.50MB/s]\n"
     ]
    }
   ],
   "source": [
    "!gdown --id 1OurDQUtbWQacvT32HMqFL7vIUrSMllOp\n"
   ]
  },
  {
   "cell_type": "code",
   "execution_count": 2,
   "metadata": {
    "colab": {
     "base_uri": "https://localhost:8080/"
    },
    "id": "MBohsaDGxFEy",
    "outputId": "b4658b31-aa6a-450d-fcb0-5de16f3d2b5b"
   },
   "outputs": [
    {
     "name": "stdout",
     "output_type": "stream",
     "text": [
      "Requirement already satisfied: kaggle in /usr/local/lib/python3.7/dist-packages (1.5.12)\n",
      "Requirement already satisfied: tqdm in /usr/local/lib/python3.7/dist-packages (from kaggle) (4.41.1)\n",
      "Requirement already satisfied: requests in /usr/local/lib/python3.7/dist-packages (from kaggle) (2.23.0)\n",
      "Requirement already satisfied: urllib3 in /usr/local/lib/python3.7/dist-packages (from kaggle) (1.24.3)\n",
      "Requirement already satisfied: six>=1.10 in /usr/local/lib/python3.7/dist-packages (from kaggle) (1.15.0)\n",
      "Requirement already satisfied: certifi in /usr/local/lib/python3.7/dist-packages (from kaggle) (2021.5.30)\n",
      "Requirement already satisfied: python-dateutil in /usr/local/lib/python3.7/dist-packages (from kaggle) (2.8.1)\n",
      "Requirement already satisfied: python-slugify in /usr/local/lib/python3.7/dist-packages (from kaggle) (5.0.2)\n",
      "Requirement already satisfied: text-unidecode>=1.3 in /usr/local/lib/python3.7/dist-packages (from python-slugify->kaggle) (1.3)\n",
      "Requirement already satisfied: chardet<4,>=3.0.2 in /usr/local/lib/python3.7/dist-packages (from requests->kaggle) (3.0.4)\n",
      "Requirement already satisfied: idna<3,>=2.5 in /usr/local/lib/python3.7/dist-packages (from requests->kaggle) (2.10)\n"
     ]
    }
   ],
   "source": [
    "!pip install kaggle"
   ]
  },
  {
   "cell_type": "code",
   "execution_count": 3,
   "metadata": {
    "colab": {
     "base_uri": "https://localhost:8080/"
    },
    "id": "kE6GC72uxFLP",
    "outputId": "1349d13a-8fd8-4b1e-b47e-13f5b4a6226d"
   },
   "outputs": [
    {
     "name": "stdout",
     "output_type": "stream",
     "text": [
      "Downloading fasttext-crawl-300d-2m.zip to /content\n",
      " 99% 1.43G/1.44G [00:16<00:00, 75.8MB/s]\n",
      "100% 1.44G/1.44G [00:16<00:00, 91.7MB/s]\n"
     ]
    }
   ],
   "source": [
    "!mkdir ~/.kaggle\n",
    "!cp kaggle.json ~/.kaggle/\n",
    "!chmod 600 /root/.kaggle/kaggle.json\n",
    "!kaggle datasets download -d yekenot/fasttext-crawl-300d-2m\n"
   ]
  },
  {
   "cell_type": "code",
   "execution_count": 4,
   "metadata": {
    "colab": {
     "base_uri": "https://localhost:8080/"
    },
    "id": "lx2hjm41xFQm",
    "outputId": "a9330c5b-5568-449e-e609-5a657a7b941c"
   },
   "outputs": [
    {
     "name": "stdout",
     "output_type": "stream",
     "text": [
      "\n",
      "7-Zip [64] 16.02 : Copyright (c) 1999-2016 Igor Pavlov : 2016-05-21\n",
      "p7zip Version 16.02 (locale=en_US.UTF-8,Utf16=on,HugeFiles=on,64 bits,2 CPUs Intel(R) Xeon(R) CPU @ 2.00GHz (50653),ASM,AES-NI)\n",
      "\n",
      "Scanning the drive for archives:\n",
      "  0M Scan\b\b\b\b\b\b\b\b\b         \b\b\b\b\b\b\b\b\b1 file, 1545551987 bytes (1474 MiB)\n",
      "\n",
      "Extracting archive: fasttext-crawl-300d-2m.zip\n",
      "--\n",
      "Path = fasttext-crawl-300d-2m.zip\n",
      "Type = zip\n",
      "Physical Size = 1545551987\n",
      "\n",
      "  0%\b\b\b\b    \b\b\b\b  0% - crawl-300d-2M.vec\b\b\b\b\b\b\b\b\b\b\b\b\b\b\b\b\b\b\b\b\b\b\b\b                        \b\b\b\b\b\b\b\b\b\b\b\b\b\b\b\b\b\b\b\b\b\b\b\b  1% - crawl-300d-2M.vec\b\b\b\b\b\b\b\b\b\b\b\b\b\b\b\b\b\b\b\b\b\b\b\b                        \b\b\b\b\b\b\b\b\b\b\b\b\b\b\b\b\b\b\b\b\b\b\b\b  2% - crawl-300d-2M.vec\b\b\b\b\b\b\b\b\b\b\b\b\b\b\b\b\b\b\b\b\b\b\b\b                        \b\b\b\b\b\b\b\b\b\b\b\b\b\b\b\b\b\b\b\b\b\b\b\b  3% - crawl-300d-2M.vec\b\b\b\b\b\b\b\b\b\b\b\b\b\b\b\b\b\b\b\b\b\b\b\b                        \b\b\b\b\b\b\b\b\b\b\b\b\b\b\b\b\b\b\b\b\b\b\b\b  4% - crawl-300d-2M.vec\b\b\b\b\b\b\b\b\b\b\b\b\b\b\b\b\b\b\b\b\b\b\b\b                        \b\b\b\b\b\b\b\b\b\b\b\b\b\b\b\b\b\b\b\b\b\b\b\b  5% - crawl-300d-2M.vec\b\b\b\b\b\b\b\b\b\b\b\b\b\b\b\b\b\b\b\b\b\b\b\b                        \b\b\b\b\b\b\b\b\b\b\b\b\b\b\b\b\b\b\b\b\b\b\b\b  6% - crawl-300d-2M.vec\b\b\b\b\b\b\b\b\b\b\b\b\b\b\b\b\b\b\b\b\b\b\b\b                        \b\b\b\b\b\b\b\b\b\b\b\b\b\b\b\b\b\b\b\b\b\b\b\b  7% - crawl-300d-2M.vec\b\b\b\b\b\b\b\b\b\b\b\b\b\b\b\b\b\b\b\b\b\b\b\b                        \b\b\b\b\b\b\b\b\b\b\b\b\b\b\b\b\b\b\b\b\b\b\b\b  8% - crawl-300d-2M.vec\b\b\b\b\b\b\b\b\b\b\b\b\b\b\b\b\b\b\b\b\b\b\b\b                        \b\b\b\b\b\b\b\b\b\b\b\b\b\b\b\b\b\b\b\b\b\b\b\b  9% - crawl-300d-2M.vec\b\b\b\b\b\b\b\b\b\b\b\b\b\b\b\b\b\b\b\b\b\b\b\b                        \b\b\b\b\b\b\b\b\b\b\b\b\b\b\b\b\b\b\b\b\b\b\b\b 10% - crawl-300d-2M.vec\b\b\b\b\b\b\b\b\b\b\b\b\b\b\b\b\b\b\b\b\b\b\b\b                        \b\b\b\b\b\b\b\b\b\b\b\b\b\b\b\b\b\b\b\b\b\b\b\b 11% - crawl-300d-2M.vec\b\b\b\b\b\b\b\b\b\b\b\b\b\b\b\b\b\b\b\b\b\b\b\b                        \b\b\b\b\b\b\b\b\b\b\b\b\b\b\b\b\b\b\b\b\b\b\b\b 12% - crawl-300d-2M.vec\b\b\b\b\b\b\b\b\b\b\b\b\b\b\b\b\b\b\b\b\b\b\b\b                        \b\b\b\b\b\b\b\b\b\b\b\b\b\b\b\b\b\b\b\b\b\b\b\b 13% - crawl-300d-2M.vec\b\b\b\b\b\b\b\b\b\b\b\b\b\b\b\b\b\b\b\b\b\b\b\b                        \b\b\b\b\b\b\b\b\b\b\b\b\b\b\b\b\b\b\b\b\b\b\b\b 14% - crawl-300d-2M.vec\b\b\b\b\b\b\b\b\b\b\b\b\b\b\b\b\b\b\b\b\b\b\b\b                        \b\b\b\b\b\b\b\b\b\b\b\b\b\b\b\b\b\b\b\b\b\b\b\b 15% - crawl-300d-2M.vec\b\b\b\b\b\b\b\b\b\b\b\b\b\b\b\b\b\b\b\b\b\b\b\b                        \b\b\b\b\b\b\b\b\b\b\b\b\b\b\b\b\b\b\b\b\b\b\b\b 16% - crawl-300d-2M.vec\b\b\b\b\b\b\b\b\b\b\b\b\b\b\b\b\b\b\b\b\b\b\b\b                        \b\b\b\b\b\b\b\b\b\b\b\b\b\b\b\b\b\b\b\b\b\b\b\b 17% - crawl-300d-2M.vec\b\b\b\b\b\b\b\b\b\b\b\b\b\b\b\b\b\b\b\b\b\b\b\b                        \b\b\b\b\b\b\b\b\b\b\b\b\b\b\b\b\b\b\b\b\b\b\b\b 18% - crawl-300d-2M.vec\b\b\b\b\b\b\b\b\b\b\b\b\b\b\b\b\b\b\b\b\b\b\b\b                        \b\b\b\b\b\b\b\b\b\b\b\b\b\b\b\b\b\b\b\b\b\b\b\b 19% - crawl-300d-2M.vec\b\b\b\b\b\b\b\b\b\b\b\b\b\b\b\b\b\b\b\b\b\b\b\b                        \b\b\b\b\b\b\b\b\b\b\b\b\b\b\b\b\b\b\b\b\b\b\b\b 20% - crawl-300d-2M.vec\b\b\b\b\b\b\b\b\b\b\b\b\b\b\b\b\b\b\b\b\b\b\b\b                        \b\b\b\b\b\b\b\b\b\b\b\b\b\b\b\b\b\b\b\b\b\b\b\b 21% - crawl-300d-2M.vec\b\b\b\b\b\b\b\b\b\b\b\b\b\b\b\b\b\b\b\b\b\b\b\b                        \b\b\b\b\b\b\b\b\b\b\b\b\b\b\b\b\b\b\b\b\b\b\b\b 22% - crawl-300d-2M.vec\b\b\b\b\b\b\b\b\b\b\b\b\b\b\b\b\b\b\b\b\b\b\b\b                        \b\b\b\b\b\b\b\b\b\b\b\b\b\b\b\b\b\b\b\b\b\b\b\b 23% - crawl-300d-2M.vec\b\b\b\b\b\b\b\b\b\b\b\b\b\b\b\b\b\b\b\b\b\b\b\b                        \b\b\b\b\b\b\b\b\b\b\b\b\b\b\b\b\b\b\b\b\b\b\b\b 24% - crawl-300d-2M.vec\b\b\b\b\b\b\b\b\b\b\b\b\b\b\b\b\b\b\b\b\b\b\b\b                        \b\b\b\b\b\b\b\b\b\b\b\b\b\b\b\b\b\b\b\b\b\b\b\b 25% - crawl-300d-2M.vec\b\b\b\b\b\b\b\b\b\b\b\b\b\b\b\b\b\b\b\b\b\b\b\b                        \b\b\b\b\b\b\b\b\b\b\b\b\b\b\b\b\b\b\b\b\b\b\b\b 26% - crawl-300d-2M.vec\b\b\b\b\b\b\b\b\b\b\b\b\b\b\b\b\b\b\b\b\b\b\b\b                        \b\b\b\b\b\b\b\b\b\b\b\b\b\b\b\b\b\b\b\b\b\b\b\b 27% - crawl-300d-2M.vec\b\b\b\b\b\b\b\b\b\b\b\b\b\b\b\b\b\b\b\b\b\b\b\b                        \b\b\b\b\b\b\b\b\b\b\b\b\b\b\b\b\b\b\b\b\b\b\b\b 28% - crawl-300d-2M.vec\b\b\b\b\b\b\b\b\b\b\b\b\b\b\b\b\b\b\b\b\b\b\b\b                        \b\b\b\b\b\b\b\b\b\b\b\b\b\b\b\b\b\b\b\b\b\b\b\b 29% - crawl-300d-2M.vec\b\b\b\b\b\b\b\b\b\b\b\b\b\b\b\b\b\b\b\b\b\b\b\b                        \b\b\b\b\b\b\b\b\b\b\b\b\b\b\b\b\b\b\b\b\b\b\b\b 30% - crawl-300d-2M.vec\b\b\b\b\b\b\b\b\b\b\b\b\b\b\b\b\b\b\b\b\b\b\b\b                        \b\b\b\b\b\b\b\b\b\b\b\b\b\b\b\b\b\b\b\b\b\b\b\b 31% - crawl-300d-2M.vec\b\b\b\b\b\b\b\b\b\b\b\b\b\b\b\b\b\b\b\b\b\b\b\b                        \b\b\b\b\b\b\b\b\b\b\b\b\b\b\b\b\b\b\b\b\b\b\b\b 32% - crawl-300d-2M.vec\b\b\b\b\b\b\b\b\b\b\b\b\b\b\b\b\b\b\b\b\b\b\b\b                        \b\b\b\b\b\b\b\b\b\b\b\b\b\b\b\b\b\b\b\b\b\b\b\b 33% - crawl-300d-2M.vec\b\b\b\b\b\b\b\b\b\b\b\b\b\b\b\b\b\b\b\b\b\b\b\b                        \b\b\b\b\b\b\b\b\b\b\b\b\b\b\b\b\b\b\b\b\b\b\b\b 34% - crawl-300d-2M.vec\b\b\b\b\b\b\b\b\b\b\b\b\b\b\b\b\b\b\b\b\b\b\b\b                        \b\b\b\b\b\b\b\b\b\b\b\b\b\b\b\b\b\b\b\b\b\b\b\b 35% - crawl-300d-2M.vec\b\b\b\b\b\b\b\b\b\b\b\b\b\b\b\b\b\b\b\b\b\b\b\b                        \b\b\b\b\b\b\b\b\b\b\b\b\b\b\b\b\b\b\b\b\b\b\b\b 36% - crawl-300d-2M.vec\b\b\b\b\b\b\b\b\b\b\b\b\b\b\b\b\b\b\b\b\b\b\b\b                        \b\b\b\b\b\b\b\b\b\b\b\b\b\b\b\b\b\b\b\b\b\b\b\b 37% - crawl-300d-2M.vec\b\b\b\b\b\b\b\b\b\b\b\b\b\b\b\b\b\b\b\b\b\b\b\b                        \b\b\b\b\b\b\b\b\b\b\b\b\b\b\b\b\b\b\b\b\b\b\b\b 38% - crawl-300d-2M.vec\b\b\b\b\b\b\b\b\b\b\b\b\b\b\b\b\b\b\b\b\b\b\b\b                        \b\b\b\b\b\b\b\b\b\b\b\b\b\b\b\b\b\b\b\b\b\b\b\b 39% - crawl-300d-2M.vec\b\b\b\b\b\b\b\b\b\b\b\b\b\b\b\b\b\b\b\b\b\b\b\b                        \b\b\b\b\b\b\b\b\b\b\b\b\b\b\b\b\b\b\b\b\b\b\b\b 40% - crawl-300d-2M.vec\b\b\b\b\b\b\b\b\b\b\b\b\b\b\b\b\b\b\b\b\b\b\b\b                        \b\b\b\b\b\b\b\b\b\b\b\b\b\b\b\b\b\b\b\b\b\b\b\b 41% - crawl-300d-2M.vec\b\b\b\b\b\b\b\b\b\b\b\b\b\b\b\b\b\b\b\b\b\b\b\b                        \b\b\b\b\b\b\b\b\b\b\b\b\b\b\b\b\b\b\b\b\b\b\b\b 42% - crawl-300d-2M.vec\b\b\b\b\b\b\b\b\b\b\b\b\b\b\b\b\b\b\b\b\b\b\b\b                        \b\b\b\b\b\b\b\b\b\b\b\b\b\b\b\b\b\b\b\b\b\b\b\b 43% - crawl-300d-2M.vec\b\b\b\b\b\b\b\b\b\b\b\b\b\b\b\b\b\b\b\b\b\b\b\b                        \b\b\b\b\b\b\b\b\b\b\b\b\b\b\b\b\b\b\b\b\b\b\b\b 44% - crawl-300d-2M.vec\b\b\b\b\b\b\b\b\b\b\b\b\b\b\b\b\b\b\b\b\b\b\b\b                        \b\b\b\b\b\b\b\b\b\b\b\b\b\b\b\b\b\b\b\b\b\b\b\b 45% - crawl-300d-2M.vec\b\b\b\b\b\b\b\b\b\b\b\b\b\b\b\b\b\b\b\b\b\b\b\b                        \b\b\b\b\b\b\b\b\b\b\b\b\b\b\b\b\b\b\b\b\b\b\b\b 46% - crawl-300d-2M.vec\b\b\b\b\b\b\b\b\b\b\b\b\b\b\b\b\b\b\b\b\b\b\b\b                        \b\b\b\b\b\b\b\b\b\b\b\b\b\b\b\b\b\b\b\b\b\b\b\b 47% - crawl-300d-2M.vec\b\b\b\b\b\b\b\b\b\b\b\b\b\b\b\b\b\b\b\b\b\b\b\b                        \b\b\b\b\b\b\b\b\b\b\b\b\b\b\b\b\b\b\b\b\b\b\b\b 48% - crawl-300d-2M.vec\b\b\b\b\b\b\b\b\b\b\b\b\b\b\b\b\b\b\b\b\b\b\b\b                        \b\b\b\b\b\b\b\b\b\b\b\b\b\b\b\b\b\b\b\b\b\b\b\b 49% - crawl-300d-2M.vec\b\b\b\b\b\b\b\b\b\b\b\b\b\b\b\b\b\b\b\b\b\b\b\b                        \b\b\b\b\b\b\b\b\b\b\b\b\b\b\b\b\b\b\b\b\b\b\b\b 50% - crawl-300d-2M.vec\b\b\b\b\b\b\b\b\b\b\b\b\b\b\b\b\b\b\b\b\b\b\b\b                        \b\b\b\b\b\b\b\b\b\b\b\b\b\b\b\b\b\b\b\b\b\b\b\b 51% - crawl-300d-2M.vec\b\b\b\b\b\b\b\b\b\b\b\b\b\b\b\b\b\b\b\b\b\b\b\b                        \b\b\b\b\b\b\b\b\b\b\b\b\b\b\b\b\b\b\b\b\b\b\b\b 52% - crawl-300d-2M.vec\b\b\b\b\b\b\b\b\b\b\b\b\b\b\b\b\b\b\b\b\b\b\b\b                        \b\b\b\b\b\b\b\b\b\b\b\b\b\b\b\b\b\b\b\b\b\b\b\b 53% - crawl-300d-2M.vec\b\b\b\b\b\b\b\b\b\b\b\b\b\b\b\b\b\b\b\b\b\b\b\b                        \b\b\b\b\b\b\b\b\b\b\b\b\b\b\b\b\b\b\b\b\b\b\b\b 54% - crawl-300d-2M.vec\b\b\b\b\b\b\b\b\b\b\b\b\b\b\b\b\b\b\b\b\b\b\b\b                        \b\b\b\b\b\b\b\b\b\b\b\b\b\b\b\b\b\b\b\b\b\b\b\b 55% - crawl-300d-2M.vec\b\b\b\b\b\b\b\b\b\b\b\b\b\b\b\b\b\b\b\b\b\b\b\b                        \b\b\b\b\b\b\b\b\b\b\b\b\b\b\b\b\b\b\b\b\b\b\b\b 56% - crawl-300d-2M.vec\b\b\b\b\b\b\b\b\b\b\b\b\b\b\b\b\b\b\b\b\b\b\b\b                        \b\b\b\b\b\b\b\b\b\b\b\b\b\b\b\b\b\b\b\b\b\b\b\b 57% - crawl-300d-2M.vec\b\b\b\b\b\b\b\b\b\b\b\b\b\b\b\b\b\b\b\b\b\b\b\b                        \b\b\b\b\b\b\b\b\b\b\b\b\b\b\b\b\b\b\b\b\b\b\b\b 58% - crawl-300d-2M.vec\b\b\b\b\b\b\b\b\b\b\b\b\b\b\b\b\b\b\b\b\b\b\b\b                        \b\b\b\b\b\b\b\b\b\b\b\b\b\b\b\b\b\b\b\b\b\b\b\b 59% - crawl-300d-2M.vec\b\b\b\b\b\b\b\b\b\b\b\b\b\b\b\b\b\b\b\b\b\b\b\b                        \b\b\b\b\b\b\b\b\b\b\b\b\b\b\b\b\b\b\b\b\b\b\b\b 60% - crawl-300d-2M.vec\b\b\b\b\b\b\b\b\b\b\b\b\b\b\b\b\b\b\b\b\b\b\b\b                        \b\b\b\b\b\b\b\b\b\b\b\b\b\b\b\b\b\b\b\b\b\b\b\b 61% - crawl-300d-2M.vec\b\b\b\b\b\b\b\b\b\b\b\b\b\b\b\b\b\b\b\b\b\b\b\b                        \b\b\b\b\b\b\b\b\b\b\b\b\b\b\b\b\b\b\b\b\b\b\b\b 62% - crawl-300d-2M.vec\b\b\b\b\b\b\b\b\b\b\b\b\b\b\b\b\b\b\b\b\b\b\b\b                        \b\b\b\b\b\b\b\b\b\b\b\b\b\b\b\b\b\b\b\b\b\b\b\b 63% - crawl-300d-2M.vec\b\b\b\b\b\b\b\b\b\b\b\b\b\b\b\b\b\b\b\b\b\b\b\b                        \b\b\b\b\b\b\b\b\b\b\b\b\b\b\b\b\b\b\b\b\b\b\b\b 64% - crawl-300d-2M.vec\b\b\b\b\b\b\b\b\b\b\b\b\b\b\b\b\b\b\b\b\b\b\b\b                        \b\b\b\b\b\b\b\b\b\b\b\b\b\b\b\b\b\b\b\b\b\b\b\b 65% - crawl-300d-2M.vec\b\b\b\b\b\b\b\b\b\b\b\b\b\b\b\b\b\b\b\b\b\b\b\b                        \b\b\b\b\b\b\b\b\b\b\b\b\b\b\b\b\b\b\b\b\b\b\b\b 66% - crawl-300d-2M.vec\b\b\b\b\b\b\b\b\b\b\b\b\b\b\b\b\b\b\b\b\b\b\b\b                        \b\b\b\b\b\b\b\b\b\b\b\b\b\b\b\b\b\b\b\b\b\b\b\b 67% - crawl-300d-2M.vec\b\b\b\b\b\b\b\b\b\b\b\b\b\b\b\b\b\b\b\b\b\b\b\b                        \b\b\b\b\b\b\b\b\b\b\b\b\b\b\b\b\b\b\b\b\b\b\b\b 68% - crawl-300d-2M.vec\b\b\b\b\b\b\b\b\b\b\b\b\b\b\b\b\b\b\b\b\b\b\b\b                        \b\b\b\b\b\b\b\b\b\b\b\b\b\b\b\b\b\b\b\b\b\b\b\b 69% - crawl-300d-2M.vec\b\b\b\b\b\b\b\b\b\b\b\b\b\b\b\b\b\b\b\b\b\b\b\b                        \b\b\b\b\b\b\b\b\b\b\b\b\b\b\b\b\b\b\b\b\b\b\b\b 70% - crawl-300d-2M.vec\b\b\b\b\b\b\b\b\b\b\b\b\b\b\b\b\b\b\b\b\b\b\b\b                        \b\b\b\b\b\b\b\b\b\b\b\b\b\b\b\b\b\b\b\b\b\b\b\b 71% - crawl-300d-2M.vec\b\b\b\b\b\b\b\b\b\b\b\b\b\b\b\b\b\b\b\b\b\b\b\b                        \b\b\b\b\b\b\b\b\b\b\b\b\b\b\b\b\b\b\b\b\b\b\b\b 72% - crawl-300d-2M.vec\b\b\b\b\b\b\b\b\b\b\b\b\b\b\b\b\b\b\b\b\b\b\b\b                        \b\b\b\b\b\b\b\b\b\b\b\b\b\b\b\b\b\b\b\b\b\b\b\b 73% - crawl-300d-2M.vec\b\b\b\b\b\b\b\b\b\b\b\b\b\b\b\b\b\b\b\b\b\b\b\b                        \b\b\b\b\b\b\b\b\b\b\b\b\b\b\b\b\b\b\b\b\b\b\b\b 74% - crawl-300d-2M.vec\b\b\b\b\b\b\b\b\b\b\b\b\b\b\b\b\b\b\b\b\b\b\b\b                        \b\b\b\b\b\b\b\b\b\b\b\b\b\b\b\b\b\b\b\b\b\b\b\b 75% - crawl-300d-2M.vec\b\b\b\b\b\b\b\b\b\b\b\b\b\b\b\b\b\b\b\b\b\b\b\b                        \b\b\b\b\b\b\b\b\b\b\b\b\b\b\b\b\b\b\b\b\b\b\b\b 76% - crawl-300d-2M.vec\b\b\b\b\b\b\b\b\b\b\b\b\b\b\b\b\b\b\b\b\b\b\b\b                        \b\b\b\b\b\b\b\b\b\b\b\b\b\b\b\b\b\b\b\b\b\b\b\b 77% - crawl-300d-2M.vec\b\b\b\b\b\b\b\b\b\b\b\b\b\b\b\b\b\b\b\b\b\b\b\b                        \b\b\b\b\b\b\b\b\b\b\b\b\b\b\b\b\b\b\b\b\b\b\b\b 78% - crawl-300d-2M.vec\b\b\b\b\b\b\b\b\b\b\b\b\b\b\b\b\b\b\b\b\b\b\b\b                        \b\b\b\b\b\b\b\b\b\b\b\b\b\b\b\b\b\b\b\b\b\b\b\b 79% - crawl-300d-2M.vec\b\b\b\b\b\b\b\b\b\b\b\b\b\b\b\b\b\b\b\b\b\b\b\b                        \b\b\b\b\b\b\b\b\b\b\b\b\b\b\b\b\b\b\b\b\b\b\b\b 80% - crawl-300d-2M.vec\b\b\b\b\b\b\b\b\b\b\b\b\b\b\b\b\b\b\b\b\b\b\b\b                        \b\b\b\b\b\b\b\b\b\b\b\b\b\b\b\b\b\b\b\b\b\b\b\b 81% - crawl-300d-2M.vec\b\b\b\b\b\b\b\b\b\b\b\b\b\b\b\b\b\b\b\b\b\b\b\b                        \b\b\b\b\b\b\b\b\b\b\b\b\b\b\b\b\b\b\b\b\b\b\b\b 82% - crawl-300d-2M.vec\b\b\b\b\b\b\b\b\b\b\b\b\b\b\b\b\b\b\b\b\b\b\b\b                        \b\b\b\b\b\b\b\b\b\b\b\b\b\b\b\b\b\b\b\b\b\b\b\b 83% - crawl-300d-2M.vec\b\b\b\b\b\b\b\b\b\b\b\b\b\b\b\b\b\b\b\b\b\b\b\b                        \b\b\b\b\b\b\b\b\b\b\b\b\b\b\b\b\b\b\b\b\b\b\b\b 84% - crawl-300d-2M.vec\b\b\b\b\b\b\b\b\b\b\b\b\b\b\b\b\b\b\b\b\b\b\b\b                        \b\b\b\b\b\b\b\b\b\b\b\b\b\b\b\b\b\b\b\b\b\b\b\b 85% - crawl-300d-2M.vec\b\b\b\b\b\b\b\b\b\b\b\b\b\b\b\b\b\b\b\b\b\b\b\b                        \b\b\b\b\b\b\b\b\b\b\b\b\b\b\b\b\b\b\b\b\b\b\b\b 86% - crawl-300d-2M.vec\b\b\b\b\b\b\b\b\b\b\b\b\b\b\b\b\b\b\b\b\b\b\b\b                        \b\b\b\b\b\b\b\b\b\b\b\b\b\b\b\b\b\b\b\b\b\b\b\b 87% - crawl-300d-2M.vec\b\b\b\b\b\b\b\b\b\b\b\b\b\b\b\b\b\b\b\b\b\b\b\b                        \b\b\b\b\b\b\b\b\b\b\b\b\b\b\b\b\b\b\b\b\b\b\b\b 88% - crawl-300d-2M.vec\b\b\b\b\b\b\b\b\b\b\b\b\b\b\b\b\b\b\b\b\b\b\b\b                        \b\b\b\b\b\b\b\b\b\b\b\b\b\b\b\b\b\b\b\b\b\b\b\b 89% - crawl-300d-2M.vec\b\b\b\b\b\b\b\b\b\b\b\b\b\b\b\b\b\b\b\b\b\b\b\b                        \b\b\b\b\b\b\b\b\b\b\b\b\b\b\b\b\b\b\b\b\b\b\b\b 90% - crawl-300d-2M.vec\b\b\b\b\b\b\b\b\b\b\b\b\b\b\b\b\b\b\b\b\b\b\b\b                        \b\b\b\b\b\b\b\b\b\b\b\b\b\b\b\b\b\b\b\b\b\b\b\b 91% - crawl-300d-2M.vec\b\b\b\b\b\b\b\b\b\b\b\b\b\b\b\b\b\b\b\b\b\b\b\b                        \b\b\b\b\b\b\b\b\b\b\b\b\b\b\b\b\b\b\b\b\b\b\b\b 92% - crawl-300d-2M.vec\b\b\b\b\b\b\b\b\b\b\b\b\b\b\b\b\b\b\b\b\b\b\b\b                        \b\b\b\b\b\b\b\b\b\b\b\b\b\b\b\b\b\b\b\b\b\b\b\b 93% - crawl-300d-2M.vec\b\b\b\b\b\b\b\b\b\b\b\b\b\b\b\b\b\b\b\b\b\b\b\b                        \b\b\b\b\b\b\b\b\b\b\b\b\b\b\b\b\b\b\b\b\b\b\b\b 94% - crawl-300d-2M.vec\b\b\b\b\b\b\b\b\b\b\b\b\b\b\b\b\b\b\b\b\b\b\b\b                        \b\b\b\b\b\b\b\b\b\b\b\b\b\b\b\b\b\b\b\b\b\b\b\b 95% - crawl-300d-2M.vec\b\b\b\b\b\b\b\b\b\b\b\b\b\b\b\b\b\b\b\b\b\b\b\b                        \b\b\b\b\b\b\b\b\b\b\b\b\b\b\b\b\b\b\b\b\b\b\b\b 96% - crawl-300d-2M.vec\b\b\b\b\b\b\b\b\b\b\b\b\b\b\b\b\b\b\b\b\b\b\b\b                        \b\b\b\b\b\b\b\b\b\b\b\b\b\b\b\b\b\b\b\b\b\b\b\b 97% - crawl-300d-2M.vec\b\b\b\b\b\b\b\b\b\b\b\b\b\b\b\b\b\b\b\b\b\b\b\b                        \b\b\b\b\b\b\b\b\b\b\b\b\b\b\b\b\b\b\b\b\b\b\b\b 98% - crawl-300d-2M.vec\b\b\b\b\b\b\b\b\b\b\b\b\b\b\b\b\b\b\b\b\b\b\b\b                        \b\b\b\b\b\b\b\b\b\b\b\b\b\b\b\b\b\b\b\b\b\b\b\b 99% - crawl-300d-2M.vec\b\b\b\b\b\b\b\b\b\b\b\b\b\b\b\b\b\b\b\b\b\b\b\b                        \b\b\b\b\b\b\b\b\b\b\b\b\b\b\b\b\b\b\b\b\b\b\b\b100% - crawl-300d-2M.vec\b\b\b\b\b\b\b\b\b\b\b\b\b\b\b\b\b\b\b\b\b\b\b\b                        \b\b\b\b\b\b\b\b\b\b\b\b\b\b\b\b\b\b\b\b\b\b\b\bEverything is Ok\n",
      "\n",
      "Size:       4516698366\n",
      "Compressed: 1545551987\n"
     ]
    }
   ],
   "source": [
    "!7z e fasttext-crawl-300d-2m.zip -o/content -r\n"
   ]
  },
  {
   "cell_type": "code",
   "execution_count": 5,
   "metadata": {
    "id": "gqplyfv9n1mw"
   },
   "outputs": [],
   "source": [
    "#Importing necessary libraries\n",
    "import pandas as pd\n",
    "import numpy as np\n",
    "import tensorflow as tf\n",
    "from tensorflow.keras.preprocessing.text import Tokenizer\n",
    "from tensorflow.keras.preprocessing.sequence import pad_sequences"
   ]
  },
  {
   "cell_type": "code",
   "execution_count": 6,
   "metadata": {
    "colab": {
     "base_uri": "https://localhost:8080/"
    },
    "id": "hldZyWWwxFVV",
    "outputId": "6e6cb3f8-a6a1-46ac-a9ed-a0434b7565d4"
   },
   "outputs": [
    {
     "name": "stdout",
     "output_type": "stream",
     "text": [
      "Loading Fasttext Model\n",
      "Done. 2000000  words loaded!\n"
     ]
    }
   ],
   "source": [
    "# Reading glove vectors in python: https://stackoverflow.com/a/38230349/4084039\n",
    "def fasttextModel(gloveFile):\n",
    "    print (\"Loading Fasttext Model\")\n",
    "    f = open(gloveFile,'r', encoding=\"utf8\")\n",
    "    model = {}#for storing word and the corresponding embedding vector for that word\n",
    "    for line in f:\n",
    "        splitLine = line.split()#splitting the line and storing it in a list\n",
    "        word = splitLine[0]#getting the first element and storing it in word\n",
    "        embedding = np.array([float(val) for val in splitLine[1:]])#obtaining corresponding vector for that word\n",
    "        model[word] = embedding#storing word as key and embedding vector for that word as value\n",
    "    print (\"Done.\",len(model),\" words loaded!\")\n",
    "    return model\n",
    "model = fasttextModel('/content/crawl-300d-2M.vec')"
   ]
  },
  {
   "cell_type": "code",
   "execution_count": 7,
   "metadata": {
    "id": "WsavarFgn8Nz"
   },
   "outputs": [],
   "source": [
    "df=pd.read_csv('preprocessed_data.csv')#reading data into DataFrame"
   ]
  },
  {
   "cell_type": "code",
   "execution_count": 8,
   "metadata": {
    "colab": {
     "base_uri": "https://localhost:8080/",
     "height": 175
    },
    "id": "9AWotYpxn-F7",
    "outputId": "14ef254f-86a0-4ee8-b34b-598567bd2950",
    "scrolled": true
   },
   "outputs": [
    {
     "data": {
      "text/html": [
       "<div>\n",
       "<style scoped>\n",
       "    .dataframe tbody tr th:only-of-type {\n",
       "        vertical-align: middle;\n",
       "    }\n",
       "\n",
       "    .dataframe tbody tr th {\n",
       "        vertical-align: top;\n",
       "    }\n",
       "\n",
       "    .dataframe thead th {\n",
       "        text-align: right;\n",
       "    }\n",
       "</style>\n",
       "<table border=\"1\" class=\"dataframe\">\n",
       "  <thead>\n",
       "    <tr style=\"text-align: right;\">\n",
       "      <th></th>\n",
       "      <th>Unnamed: 0</th>\n",
       "      <th>source</th>\n",
       "      <th>target</th>\n",
       "    </tr>\n",
       "  </thead>\n",
       "  <tbody>\n",
       "    <tr>\n",
       "      <th>0</th>\n",
       "      <td>0</td>\n",
       "      <td>U wan me to \"chop\" seat 4 u nt?\\n</td>\n",
       "      <td>Do you want me to reserve seat for you or not?\\n</td>\n",
       "    </tr>\n",
       "    <tr>\n",
       "      <th>1</th>\n",
       "      <td>1</td>\n",
       "      <td>Yup. U reaching. We order some durian pastry a...</td>\n",
       "      <td>Yeap. You reaching? We ordered some Durian pas...</td>\n",
       "    </tr>\n",
       "    <tr>\n",
       "      <th>2</th>\n",
       "      <td>2</td>\n",
       "      <td>They become more ex oredi... Mine is like 25.....</td>\n",
       "      <td>They become more expensive already. Mine is li...</td>\n",
       "    </tr>\n",
       "    <tr>\n",
       "      <th>3</th>\n",
       "      <td>3</td>\n",
       "      <td>I'm thai. what do u do?\\n</td>\n",
       "      <td>I'm Thai. What do you do?\\n</td>\n",
       "    </tr>\n",
       "  </tbody>\n",
       "</table>\n",
       "</div>"
      ],
      "text/plain": [
       "   Unnamed: 0  ...                                             target\n",
       "0           0  ...   Do you want me to reserve seat for you or not?\\n\n",
       "1           1  ...  Yeap. You reaching? We ordered some Durian pas...\n",
       "2           2  ...  They become more expensive already. Mine is li...\n",
       "3           3  ...                        I'm Thai. What do you do?\\n\n",
       "\n",
       "[4 rows x 3 columns]"
      ]
     },
     "execution_count": 8,
     "metadata": {
      "tags": []
     },
     "output_type": "execute_result"
    }
   ],
   "source": [
    "df.head(4)#displaying top 4 datapoints\n"
   ]
  },
  {
   "cell_type": "code",
   "execution_count": 9,
   "metadata": {
    "id": "cSbtR_HldLZo"
   },
   "outputs": [],
   "source": [
    "def preprocess(x):#removing last character\n",
    "  x=x[:-1]\n",
    "  return x"
   ]
  },
  {
   "cell_type": "code",
   "execution_count": 10,
   "metadata": {
    "id": "vKafzf6ToWkC"
   },
   "outputs": [],
   "source": [
    "df['source']=df['source'].apply(preprocess)#preprocessing source data\n",
    "df['target']=df['target'].apply(preprocess)#preprocessing target data"
   ]
  },
  {
   "cell_type": "code",
   "execution_count": 11,
   "metadata": {
    "colab": {
     "base_uri": "https://localhost:8080/",
     "height": 206
    },
    "id": "xuh4SgNaoYS7",
    "outputId": "f2896b90-10bf-487f-a7cf-733300e979c6"
   },
   "outputs": [
    {
     "data": {
      "text/html": [
       "<div>\n",
       "<style scoped>\n",
       "    .dataframe tbody tr th:only-of-type {\n",
       "        vertical-align: middle;\n",
       "    }\n",
       "\n",
       "    .dataframe tbody tr th {\n",
       "        vertical-align: top;\n",
       "    }\n",
       "\n",
       "    .dataframe thead th {\n",
       "        text-align: right;\n",
       "    }\n",
       "</style>\n",
       "<table border=\"1\" class=\"dataframe\">\n",
       "  <thead>\n",
       "    <tr style=\"text-align: right;\">\n",
       "      <th></th>\n",
       "      <th>source</th>\n",
       "      <th>target</th>\n",
       "    </tr>\n",
       "  </thead>\n",
       "  <tbody>\n",
       "    <tr>\n",
       "      <th>0</th>\n",
       "      <td>U wan me to \"chop\" seat 4 u nt?</td>\n",
       "      <td>Do you want me to reserve seat for you or not?</td>\n",
       "    </tr>\n",
       "    <tr>\n",
       "      <th>1</th>\n",
       "      <td>Yup. U reaching. We order some durian pastry a...</td>\n",
       "      <td>Yeap. You reaching? We ordered some Durian pas...</td>\n",
       "    </tr>\n",
       "    <tr>\n",
       "      <th>2</th>\n",
       "      <td>They become more ex oredi... Mine is like 25.....</td>\n",
       "      <td>They become more expensive already. Mine is li...</td>\n",
       "    </tr>\n",
       "    <tr>\n",
       "      <th>3</th>\n",
       "      <td>I'm thai. what do u do?</td>\n",
       "      <td>I'm Thai. What do you do?</td>\n",
       "    </tr>\n",
       "    <tr>\n",
       "      <th>4</th>\n",
       "      <td>Hi! How did your week go? Haven heard from you...</td>\n",
       "      <td>Hi! How did your week go? Haven't heard from y...</td>\n",
       "    </tr>\n",
       "  </tbody>\n",
       "</table>\n",
       "</div>"
      ],
      "text/plain": [
       "                                              source                                             target\n",
       "0                    U wan me to \"chop\" seat 4 u nt?     Do you want me to reserve seat for you or not?\n",
       "1  Yup. U reaching. We order some durian pastry a...  Yeap. You reaching? We ordered some Durian pas...\n",
       "2  They become more ex oredi... Mine is like 25.....  They become more expensive already. Mine is li...\n",
       "3                            I'm thai. what do u do?                          I'm Thai. What do you do?\n",
       "4  Hi! How did your week go? Haven heard from you...  Hi! How did your week go? Haven't heard from y..."
      ]
     },
     "execution_count": 11,
     "metadata": {
      "tags": []
     },
     "output_type": "execute_result"
    }
   ],
   "source": [
    "df=df[['source','target']]\n",
    "df.head()"
   ]
  },
  {
   "cell_type": "code",
   "execution_count": 12,
   "metadata": {
    "colab": {
     "base_uri": "https://localhost:8080/"
    },
    "id": "FZEm82GcoZ3L",
    "outputId": "72f1a194-39c6-40cf-9f00-e7f134a85cfd"
   },
   "outputs": [
    {
     "data": {
      "text/plain": [
       "(2000, 2)"
      ]
     },
     "execution_count": 12,
     "metadata": {
      "tags": []
     },
     "output_type": "execute_result"
    }
   ],
   "source": [
    "df.shape#shape of DataFrame\n"
   ]
  },
  {
   "cell_type": "code",
   "execution_count": 13,
   "metadata": {
    "id": "DJ84ehWAoj8H"
   },
   "outputs": [],
   "source": [
    "df=df[df['source'].apply(len)<170]#removing source sentences of length greater than or equal to 170\n",
    "df=df[df['target'].apply(len)<200]#removing target sentences of length greater than or equal to 200"
   ]
  },
  {
   "cell_type": "code",
   "execution_count": 14,
   "metadata": {
    "colab": {
     "base_uri": "https://localhost:8080/"
    },
    "id": "-H2tW5L9omLr",
    "outputId": "2d23fa9c-8254-4ec0-fd97-45ec45833a1e"
   },
   "outputs": [
    {
     "data": {
      "text/plain": [
       "(1990, 2)"
      ]
     },
     "execution_count": 14,
     "metadata": {
      "tags": []
     },
     "output_type": "execute_result"
    }
   ],
   "source": [
    "df.shape#shape of DataFrame\n"
   ]
  },
  {
   "cell_type": "code",
   "execution_count": 15,
   "metadata": {
    "colab": {
     "base_uri": "https://localhost:8080/"
    },
    "id": "Fl5VZWaaoqGn",
    "outputId": "342e12be-e6d6-438f-9d3a-d96ef56ba167"
   },
   "outputs": [
    {
     "name": "stdout",
     "output_type": "stream",
     "text": [
      "(1970,)\n",
      "(20,)\n",
      "(1970,)\n",
      "(20,)\n"
     ]
    }
   ],
   "source": [
    "from sklearn.model_selection import train_test_split\n",
    "X=df['source']\n",
    "y=df['target']\n",
    "X_train,X_test,y_train,y_test=train_test_split(X,y,test_size=0.01)#splitting the data in the ratio 99:1\n",
    "print(X_train.shape)\n",
    "print(X_test.shape)\n",
    "print(y_train.shape)\n",
    "print(y_test.shape)\n"
   ]
  },
  {
   "cell_type": "markdown",
   "metadata": {
    "id": "cbfvxkdGo_lk"
   },
   "source": [
    "Target:"
   ]
  },
  {
   "cell_type": "code",
   "execution_count": 16,
   "metadata": {
    "colab": {
     "base_uri": "https://localhost:8080/"
    },
    "id": "aSCnXKY2owi5",
    "outputId": "d30fbe6a-8744-4551-f96f-193e5af6f231"
   },
   "outputs": [
    {
     "name": "stdout",
     "output_type": "stream",
     "text": [
      "3600\n"
     ]
    }
   ],
   "source": [
    "target_tokenizer= Tokenizer(lower=False)#tokenization on target\n",
    "target_tokenizer.fit_on_texts(y_train)#fitting on ytrain\n",
    "target_vocab_size= len(target_tokenizer.word_index) + 1#target vocab size\n",
    "print(len(target_tokenizer.word_index))"
   ]
  },
  {
   "cell_type": "code",
   "execution_count": 17,
   "metadata": {
    "id": "gxTYBa17pCtV"
   },
   "outputs": [],
   "source": [
    "target_encoded_docs_train = target_tokenizer.texts_to_sequences(y_train)#converting text to integers\n",
    "target_encoded_docs_test = target_tokenizer.texts_to_sequences(y_test)#converting text to integers"
   ]
  },
  {
   "cell_type": "code",
   "execution_count": 18,
   "metadata": {
    "id": "MhJLucaWpEbZ"
   },
   "outputs": [],
   "source": [
    "target_padded_docs_train = pad_sequences(target_encoded_docs_train,padding='post')#padding to maxlength"
   ]
  },
  {
   "cell_type": "code",
   "execution_count": 19,
   "metadata": {
    "colab": {
     "base_uri": "https://localhost:8080/"
    },
    "id": "2VK90pD5pF1n",
    "outputId": "666c8859-2658-4712-d5d6-44585321bddf"
   },
   "outputs": [
    {
     "data": {
      "text/plain": [
       "(1970, 43)"
      ]
     },
     "execution_count": 19,
     "metadata": {
      "tags": []
     },
     "output_type": "execute_result"
    }
   ],
   "source": [
    "target_padded_docs_train.shape\n"
   ]
  },
  {
   "cell_type": "code",
   "execution_count": 20,
   "metadata": {
    "id": "ZexKHcNJpHW2"
   },
   "outputs": [],
   "source": [
    "target_padded_docs_test = pad_sequences(target_encoded_docs_test,maxlen=target_padded_docs_train.shape[1],padding='post')#padding to maxlength"
   ]
  },
  {
   "cell_type": "code",
   "execution_count": 21,
   "metadata": {
    "colab": {
     "base_uri": "https://localhost:8080/"
    },
    "id": "KzkkdeOspJYS",
    "outputId": "d0f8f0a6-b9cb-4c08-960d-893688993bb9"
   },
   "outputs": [
    {
     "data": {
      "text/plain": [
       "(20, 43)"
      ]
     },
     "execution_count": 21,
     "metadata": {
      "tags": []
     },
     "output_type": "execute_result"
    }
   ],
   "source": [
    "target_padded_docs_test.shape\n"
   ]
  },
  {
   "cell_type": "markdown",
   "metadata": {
    "id": "mNdQqGlgpNij"
   },
   "source": [
    "Source:"
   ]
  },
  {
   "cell_type": "code",
   "execution_count": 22,
   "metadata": {
    "colab": {
     "base_uri": "https://localhost:8080/"
    },
    "id": "j9xK62nUpLQX",
    "outputId": "622037e8-29e1-4479-f5ae-b518d081f672"
   },
   "outputs": [
    {
     "name": "stdout",
     "output_type": "stream",
     "text": [
      "4623\n"
     ]
    }
   ],
   "source": [
    "source_tokenizer= Tokenizer(lower=False)#tokenization on source\n",
    "source_tokenizer.fit_on_texts(X_train)#fitting to X_train\n",
    "source_vocab_size= len(source_tokenizer.word_index) + 1#source vocab size\n",
    "print(len(source_tokenizer.word_index))"
   ]
  },
  {
   "cell_type": "code",
   "execution_count": 23,
   "metadata": {
    "id": "YSP7v2ylpQkB"
   },
   "outputs": [],
   "source": [
    "source_encoded_docs_train = source_tokenizer.texts_to_sequences(X_train)#converting text to sequence\n",
    "source_encoded_docs_test = source_tokenizer.texts_to_sequences(X_test)#converting text to sequence"
   ]
  },
  {
   "cell_type": "code",
   "execution_count": 24,
   "metadata": {
    "id": "Bn9h_emepTUT"
   },
   "outputs": [],
   "source": [
    "source_padded_docs_train = pad_sequences(source_encoded_docs_train,maxlen=target_padded_docs_train.shape[1],padding='post')#padding to maxlength"
   ]
  },
  {
   "cell_type": "code",
   "execution_count": 25,
   "metadata": {
    "colab": {
     "base_uri": "https://localhost:8080/"
    },
    "id": "VrJjoty8pU31",
    "outputId": "6b9ae0b4-6be4-440a-fe24-2904079c982b"
   },
   "outputs": [
    {
     "data": {
      "text/plain": [
       "(1970, 43)"
      ]
     },
     "execution_count": 25,
     "metadata": {
      "tags": []
     },
     "output_type": "execute_result"
    }
   ],
   "source": [
    "source_padded_docs_train.shape"
   ]
  },
  {
   "cell_type": "code",
   "execution_count": 26,
   "metadata": {
    "id": "QfLn6qRFpWPY"
   },
   "outputs": [],
   "source": [
    "source_padded_docs_test = pad_sequences(source_encoded_docs_test,maxlen=target_padded_docs_train.shape[1],padding='post')#padding to maxlength"
   ]
  },
  {
   "cell_type": "code",
   "execution_count": 27,
   "metadata": {
    "colab": {
     "base_uri": "https://localhost:8080/"
    },
    "id": "jC1CxZ69pXr-",
    "outputId": "4f106908-dbcf-4d91-e47e-c3829d693314"
   },
   "outputs": [
    {
     "data": {
      "text/plain": [
       "(20, 43)"
      ]
     },
     "execution_count": 27,
     "metadata": {
      "tags": []
     },
     "output_type": "execute_result"
    }
   ],
   "source": [
    "source_padded_docs_test.shape"
   ]
  },
  {
   "cell_type": "code",
   "execution_count": 28,
   "metadata": {
    "id": "HbleYK91pbP4"
   },
   "outputs": [],
   "source": [
    "#we are reshaping the dataset because the sparese_categorical_crossentropy requires data to be three dimensional\n",
    "\n",
    "target_padded_docs_train=target_padded_docs_train.reshape((*target_padded_docs_train.shape,1))\n",
    "target_padded_docs_test=target_padded_docs_test.reshape((*target_padded_docs_test.shape,1))"
   ]
  },
  {
   "cell_type": "code",
   "execution_count": 29,
   "metadata": {
    "colab": {
     "base_uri": "https://localhost:8080/"
    },
    "id": "_6-DnH2Opc-R",
    "outputId": "91f9e248-702a-484a-d7db-3e72a01d621d"
   },
   "outputs": [
    {
     "name": "stdout",
     "output_type": "stream",
     "text": [
      "(1970, 43, 1)\n",
      "(20, 43, 1)\n"
     ]
    }
   ],
   "source": [
    "print(target_padded_docs_train.shape)\n",
    "print(target_padded_docs_test.shape)"
   ]
  },
  {
   "cell_type": "code",
   "execution_count": 30,
   "metadata": {
    "id": "4yZxwxPqpfQ6"
   },
   "outputs": [],
   "source": [
    "#we are reshaping the dataset because the sparese_categorical_crossentropy requires data to be three dimensional\n",
    "\n",
    "source_padded_docs_train=source_padded_docs_train.reshape((*source_padded_docs_train.shape,1))\n",
    "source_padded_docs_test=source_padded_docs_test.reshape((*source_padded_docs_test.shape,1))"
   ]
  },
  {
   "cell_type": "code",
   "execution_count": 31,
   "metadata": {
    "colab": {
     "base_uri": "https://localhost:8080/"
    },
    "id": "zo2683qsphSW",
    "outputId": "156df3b4-0794-4e52-bde0-acd114451db6"
   },
   "outputs": [
    {
     "name": "stdout",
     "output_type": "stream",
     "text": [
      "(1970, 43, 1)\n",
      "(20, 43, 1)\n"
     ]
    }
   ],
   "source": [
    "print(source_padded_docs_train.shape)\n",
    "print(source_padded_docs_test.shape)"
   ]
  },
  {
   "cell_type": "code",
   "execution_count": 32,
   "metadata": {
    "id": "rH-UwBk3xeeA"
   },
   "outputs": [],
   "source": [
    "#creating embedding matrix\n",
    "embedding_matrix = np.zeros((source_vocab_size, 300))\n",
    "for word, i in source_tokenizer.word_index.items():\n",
    "    embedding_vector = model.get(word)\n",
    "    if embedding_vector is not None:\n",
    "        embedding_matrix[i] = embedding_vector"
   ]
  },
  {
   "cell_type": "markdown",
   "metadata": {
    "id": "g1tc_fxeuI6I"
   },
   "source": [
    "Model:"
   ]
  },
  {
   "cell_type": "code",
   "execution_count": 33,
   "metadata": {
    "colab": {
     "base_uri": "https://localhost:8080/"
    },
    "id": "kjUr0ohmqi8p",
    "outputId": "2d0d7e88-3d0c-4e89-f580-09adf83a8f0a"
   },
   "outputs": [
    {
     "name": "stdout",
     "output_type": "stream",
     "text": [
      "Model: \"model\"\n",
      "_________________________________________________________________\n",
      "Layer (type)                 Output Shape              Param #   \n",
      "=================================================================\n",
      "input_1 (InputLayer)         [(None, 43)]              0         \n",
      "_________________________________________________________________\n",
      "embedding (Embedding)        (None, 43, 300)           1387200   \n",
      "_________________________________________________________________\n",
      "bidirectional (Bidirectional (None, 43, 256)           439296    \n",
      "_________________________________________________________________\n",
      "time_distributed (TimeDistri (None, 43, 3601)          925457    \n",
      "=================================================================\n",
      "Total params: 2,751,953\n",
      "Trainable params: 1,364,753\n",
      "Non-trainable params: 1,387,200\n",
      "_________________________________________________________________\n"
     ]
    }
   ],
   "source": [
    "input=tf.keras.layers.Input(shape=(43,))\n",
    "embed=tf.keras.layers.Embedding(source_vocab_size,300,weights=[embedding_matrix],input_length=source_padded_docs_train.shape[1],trainable=False)(input)\n",
    "lstm1=tf.keras.layers.Bidirectional(tf.keras.layers.LSTM(128, return_sequences=True))(embed)  \n",
    "output=tf.keras.layers.TimeDistributed(tf.keras.layers.Dense(target_vocab_size, activation='softmax'))(lstm1)\n",
    "model=tf.keras.models.Model(inputs=input,outputs=output)\n",
    "model.summary()"
   ]
  },
  {
   "cell_type": "code",
   "execution_count": 34,
   "metadata": {
    "id": "iXpqxfOhuNTz"
   },
   "outputs": [],
   "source": [
    "# Compile model\n",
    "model.compile(optimizer=tf.keras.optimizers.Adam(0.01),\n",
    "              loss='sparse_categorical_crossentropy',metrics=['accuracy'])"
   ]
  },
  {
   "cell_type": "code",
   "execution_count": 35,
   "metadata": {
    "colab": {
     "base_uri": "https://localhost:8080/"
    },
    "id": "u4g-6RMYuP_H",
    "outputId": "859e6aca-d30a-4550-f119-33832c0b13f2"
   },
   "outputs": [
    {
     "name": "stdout",
     "output_type": "stream",
     "text": [
      "Epoch 1/50\n",
      "2/2 [==============================] - 10s 907ms/step - loss: 8.0933 - accuracy: 0.3287 - val_loss: 6.4809 - val_accuracy: 0.7047\n",
      "Epoch 2/50\n",
      "2/2 [==============================] - 1s 260ms/step - loss: 5.7948 - accuracy: 0.6822 - val_loss: 3.0150 - val_accuracy: 0.6977\n",
      "Epoch 3/50\n",
      "2/2 [==============================] - 1s 265ms/step - loss: 3.2016 - accuracy: 0.6735 - val_loss: 2.9736 - val_accuracy: 0.6977\n",
      "Epoch 4/50\n",
      "2/2 [==============================] - 1s 261ms/step - loss: 3.2845 - accuracy: 0.6735 - val_loss: 2.5922 - val_accuracy: 0.6977\n",
      "Epoch 5/50\n",
      "2/2 [==============================] - 1s 263ms/step - loss: 2.8372 - accuracy: 0.6745 - val_loss: 2.3567 - val_accuracy: 0.7012\n",
      "Epoch 6/50\n",
      "2/2 [==============================] - 1s 264ms/step - loss: 2.6457 - accuracy: 0.6775 - val_loss: 2.3243 - val_accuracy: 0.7012\n",
      "Epoch 7/50\n",
      "2/2 [==============================] - 1s 266ms/step - loss: 2.5460 - accuracy: 0.6775 - val_loss: 2.1505 - val_accuracy: 0.7012\n",
      "Epoch 8/50\n",
      "2/2 [==============================] - 1s 268ms/step - loss: 2.3997 - accuracy: 0.6771 - val_loss: 2.0940 - val_accuracy: 0.7012\n",
      "Epoch 9/50\n",
      "2/2 [==============================] - 1s 265ms/step - loss: 2.3458 - accuracy: 0.6771 - val_loss: 2.0330 - val_accuracy: 0.7012\n",
      "Epoch 10/50\n",
      "2/2 [==============================] - 1s 265ms/step - loss: 2.2635 - accuracy: 0.6778 - val_loss: 1.9568 - val_accuracy: 0.7058\n",
      "Epoch 11/50\n",
      "2/2 [==============================] - 1s 264ms/step - loss: 2.1752 - accuracy: 0.6854 - val_loss: 1.9030 - val_accuracy: 0.7105\n",
      "Epoch 12/50\n",
      "2/2 [==============================] - 1s 260ms/step - loss: 2.1178 - accuracy: 0.6864 - val_loss: 1.8722 - val_accuracy: 0.7128\n",
      "Epoch 13/50\n",
      "2/2 [==============================] - 1s 266ms/step - loss: 2.0808 - accuracy: 0.6887 - val_loss: 1.8578 - val_accuracy: 0.7151\n",
      "Epoch 14/50\n",
      "2/2 [==============================] - 1s 267ms/step - loss: 2.0554 - accuracy: 0.6938 - val_loss: 1.8461 - val_accuracy: 0.7151\n",
      "Epoch 15/50\n",
      "2/2 [==============================] - 1s 267ms/step - loss: 2.0285 - accuracy: 0.6963 - val_loss: 1.8355 - val_accuracy: 0.7151\n",
      "Epoch 16/50\n",
      "2/2 [==============================] - 1s 270ms/step - loss: 2.0027 - accuracy: 0.6962 - val_loss: 1.8244 - val_accuracy: 0.7163\n",
      "Epoch 17/50\n",
      "2/2 [==============================] - 1s 266ms/step - loss: 1.9774 - accuracy: 0.6987 - val_loss: 1.8055 - val_accuracy: 0.7186\n",
      "Epoch 18/50\n",
      "2/2 [==============================] - 1s 265ms/step - loss: 1.9501 - accuracy: 0.7008 - val_loss: 1.7804 - val_accuracy: 0.7209\n",
      "Epoch 19/50\n",
      "2/2 [==============================] - 1s 269ms/step - loss: 1.9222 - accuracy: 0.7027 - val_loss: 1.7632 - val_accuracy: 0.7221\n",
      "Epoch 20/50\n",
      "2/2 [==============================] - 1s 270ms/step - loss: 1.8913 - accuracy: 0.7047 - val_loss: 1.7485 - val_accuracy: 0.7221\n",
      "Epoch 21/50\n",
      "2/2 [==============================] - 1s 271ms/step - loss: 1.8590 - accuracy: 0.7072 - val_loss: 1.7303 - val_accuracy: 0.7244\n",
      "Epoch 22/50\n",
      "2/2 [==============================] - 1s 268ms/step - loss: 1.8256 - accuracy: 0.7099 - val_loss: 1.7073 - val_accuracy: 0.7267\n",
      "Epoch 23/50\n",
      "2/2 [==============================] - 1s 266ms/step - loss: 1.7898 - accuracy: 0.7131 - val_loss: 1.6811 - val_accuracy: 0.7267\n",
      "Epoch 24/50\n",
      "2/2 [==============================] - 1s 269ms/step - loss: 1.7533 - accuracy: 0.7158 - val_loss: 1.6522 - val_accuracy: 0.7291\n",
      "Epoch 25/50\n",
      "2/2 [==============================] - 1s 267ms/step - loss: 1.7155 - accuracy: 0.7190 - val_loss: 1.6274 - val_accuracy: 0.7302\n",
      "Epoch 26/50\n",
      "2/2 [==============================] - 1s 272ms/step - loss: 1.6773 - accuracy: 0.7230 - val_loss: 1.6027 - val_accuracy: 0.7372\n",
      "Epoch 27/50\n",
      "2/2 [==============================] - 1s 265ms/step - loss: 1.6390 - accuracy: 0.7269 - val_loss: 1.5762 - val_accuracy: 0.7442\n",
      "Epoch 28/50\n",
      "2/2 [==============================] - 1s 264ms/step - loss: 1.5987 - accuracy: 0.7323 - val_loss: 1.5542 - val_accuracy: 0.7465\n",
      "Epoch 29/50\n",
      "2/2 [==============================] - 1s 266ms/step - loss: 1.5592 - accuracy: 0.7374 - val_loss: 1.5279 - val_accuracy: 0.7535\n",
      "Epoch 30/50\n",
      "2/2 [==============================] - 1s 267ms/step - loss: 1.5180 - accuracy: 0.7424 - val_loss: 1.5043 - val_accuracy: 0.7570\n",
      "Epoch 31/50\n",
      "2/2 [==============================] - 1s 265ms/step - loss: 1.4774 - accuracy: 0.7475 - val_loss: 1.4805 - val_accuracy: 0.7674\n",
      "Epoch 32/50\n",
      "2/2 [==============================] - 1s 265ms/step - loss: 1.4354 - accuracy: 0.7532 - val_loss: 1.4580 - val_accuracy: 0.7686\n",
      "Epoch 33/50\n",
      "2/2 [==============================] - 1s 273ms/step - loss: 1.3944 - accuracy: 0.7580 - val_loss: 1.4315 - val_accuracy: 0.7756\n",
      "Epoch 34/50\n",
      "2/2 [==============================] - 1s 273ms/step - loss: 1.3539 - accuracy: 0.7635 - val_loss: 1.4014 - val_accuracy: 0.7802\n",
      "Epoch 35/50\n",
      "2/2 [==============================] - 1s 266ms/step - loss: 1.3140 - accuracy: 0.7694 - val_loss: 1.3913 - val_accuracy: 0.7872\n",
      "Epoch 36/50\n",
      "2/2 [==============================] - 1s 266ms/step - loss: 1.2735 - accuracy: 0.7754 - val_loss: 1.3786 - val_accuracy: 0.7895\n",
      "Epoch 37/50\n",
      "2/2 [==============================] - 1s 274ms/step - loss: 1.2362 - accuracy: 0.7808 - val_loss: 1.3680 - val_accuracy: 0.7919\n",
      "Epoch 38/50\n",
      "2/2 [==============================] - 1s 268ms/step - loss: 1.1998 - accuracy: 0.7854 - val_loss: 1.3391 - val_accuracy: 0.7930\n",
      "Epoch 39/50\n",
      "2/2 [==============================] - 1s 273ms/step - loss: 1.1620 - accuracy: 0.7915 - val_loss: 1.3353 - val_accuracy: 0.7965\n",
      "Epoch 40/50\n",
      "2/2 [==============================] - 1s 272ms/step - loss: 1.1271 - accuracy: 0.7971 - val_loss: 1.3174 - val_accuracy: 0.8012\n",
      "Epoch 41/50\n",
      "2/2 [==============================] - 1s 269ms/step - loss: 1.0928 - accuracy: 0.8023 - val_loss: 1.3064 - val_accuracy: 0.8035\n",
      "Epoch 42/50\n",
      "2/2 [==============================] - 1s 273ms/step - loss: 1.0604 - accuracy: 0.8067 - val_loss: 1.2964 - val_accuracy: 0.8070\n",
      "Epoch 43/50\n",
      "2/2 [==============================] - 1s 269ms/step - loss: 1.0307 - accuracy: 0.8116 - val_loss: 1.2836 - val_accuracy: 0.8047\n",
      "Epoch 44/50\n",
      "2/2 [==============================] - 1s 269ms/step - loss: 1.0010 - accuracy: 0.8157 - val_loss: 1.2868 - val_accuracy: 0.8093\n",
      "Epoch 45/50\n",
      "2/2 [==============================] - 1s 270ms/step - loss: 0.9764 - accuracy: 0.8199 - val_loss: 1.2809 - val_accuracy: 0.8058\n",
      "Epoch 46/50\n",
      "2/2 [==============================] - 1s 266ms/step - loss: 0.9500 - accuracy: 0.8226 - val_loss: 1.2702 - val_accuracy: 0.8035\n",
      "Epoch 47/50\n",
      "2/2 [==============================] - 1s 268ms/step - loss: 0.9238 - accuracy: 0.8262 - val_loss: 1.2636 - val_accuracy: 0.8023\n",
      "Epoch 48/50\n",
      "2/2 [==============================] - 1s 267ms/step - loss: 0.9016 - accuracy: 0.8287 - val_loss: 1.2607 - val_accuracy: 0.8035\n",
      "Epoch 49/50\n",
      "2/2 [==============================] - 1s 271ms/step - loss: 0.8787 - accuracy: 0.8306 - val_loss: 1.2577 - val_accuracy: 0.8058\n",
      "Epoch 50/50\n",
      "2/2 [==============================] - 1s 272ms/step - loss: 0.8584 - accuracy: 0.8339 - val_loss: 1.2599 - val_accuracy: 0.8058\n"
     ]
    },
    {
     "data": {
      "text/plain": [
       "<tensorflow.python.keras.callbacks.History at 0x7f002465ccd0>"
      ]
     },
     "execution_count": 35,
     "metadata": {
      "tags": []
     },
     "output_type": "execute_result"
    }
   ],
   "source": [
    "model.fit(source_padded_docs_train,target_padded_docs_train,batch_size=1024,epochs=50,\n",
    "          validation_data=(source_padded_docs_test,target_padded_docs_test))"
   ]
  },
  {
   "cell_type": "code",
   "execution_count": 36,
   "metadata": {
    "colab": {
     "base_uri": "https://localhost:8080/"
    },
    "id": "VkB2rNpn4xV7",
    "outputId": "dfaab14d-550f-4cd5-ef2b-0490f223a5f3"
   },
   "outputs": [
    {
     "name": "stdout",
     "output_type": "stream",
     "text": [
      "Epoch 1/10\n",
      "2/2 [==============================] - 1s 290ms/step - loss: 0.8384 - accuracy: 0.8356 - val_loss: 1.2536 - val_accuracy: 0.8047\n",
      "Epoch 2/10\n",
      "2/2 [==============================] - 1s 266ms/step - loss: 0.8204 - accuracy: 0.8374 - val_loss: 1.2511 - val_accuracy: 0.8023\n",
      "Epoch 3/10\n",
      "2/2 [==============================] - 1s 267ms/step - loss: 0.8040 - accuracy: 0.8393 - val_loss: 1.2533 - val_accuracy: 0.8058\n",
      "Epoch 4/10\n",
      "2/2 [==============================] - 1s 272ms/step - loss: 0.7863 - accuracy: 0.8412 - val_loss: 1.2699 - val_accuracy: 0.8047\n",
      "Epoch 5/10\n",
      "2/2 [==============================] - 1s 272ms/step - loss: 0.7721 - accuracy: 0.8430 - val_loss: 1.2544 - val_accuracy: 0.8058\n",
      "Epoch 6/10\n",
      "2/2 [==============================] - 1s 269ms/step - loss: 0.7573 - accuracy: 0.8446 - val_loss: 1.2635 - val_accuracy: 0.8023\n",
      "Epoch 7/10\n",
      "2/2 [==============================] - 1s 267ms/step - loss: 0.7431 - accuracy: 0.8470 - val_loss: 1.2635 - val_accuracy: 0.8047\n",
      "Epoch 8/10\n",
      "2/2 [==============================] - 1s 271ms/step - loss: 0.7285 - accuracy: 0.8484 - val_loss: 1.2744 - val_accuracy: 0.8035\n",
      "Epoch 9/10\n",
      "2/2 [==============================] - 1s 272ms/step - loss: 0.7168 - accuracy: 0.8497 - val_loss: 1.2709 - val_accuracy: 0.8047\n",
      "Epoch 10/10\n",
      "2/2 [==============================] - 1s 269ms/step - loss: 0.7004 - accuracy: 0.8513 - val_loss: 1.2611 - val_accuracy: 0.8023\n"
     ]
    },
    {
     "data": {
      "text/plain": [
       "<tensorflow.python.keras.callbacks.History at 0x7f0023c68c50>"
      ]
     },
     "execution_count": 36,
     "metadata": {
      "tags": []
     },
     "output_type": "execute_result"
    }
   ],
   "source": [
    "model.fit(source_padded_docs_train,target_padded_docs_train,batch_size=1024,epochs=10,\n",
    "          validation_data=(source_padded_docs_test,target_padded_docs_test))"
   ]
  },
  {
   "cell_type": "code",
   "execution_count": 50,
   "metadata": {
    "id": "ZrT7AZqyby0S"
   },
   "outputs": [],
   "source": [
    "from datetime import datetime\n",
    "def prediction(x):\n",
    "\n",
    "  index_to_words = {id: word for word, id in target_tokenizer.word_index.items()}\n",
    "  index_to_words[0] = '<PAD>'\n",
    "\n",
    "  y=' '.join([index_to_words[prediction] for prediction in np.argmax(x, 1)])\n",
    "  return y\n",
    "def function1(x):\n",
    "  start = datetime.now()\n",
    "  encoded=source_tokenizer.texts_to_sequences(x)\n",
    "  padded=pad_sequences(encoded,maxlen=43,padding=\"post\")\n",
    "  padded=padded.reshape((*padded.shape,1))\n",
    "  x=model.predict(padded)\n",
    "  y=prediction(x[0])\n",
    "  y=y.split(' ')\n",
    "  y_lst=[]\n",
    "  for i in y:\n",
    "    if i=='<PAD>':\n",
    "      continue\n",
    "    else:\n",
    "      y_lst.append(i)\n",
    "  print(\"The time for evaluation:\"+str(datetime.now() - start))\n",
    "  return ' '.join(y_lst)\n"
   ]
  },
  {
   "cell_type": "code",
   "execution_count": 51,
   "metadata": {
    "colab": {
     "base_uri": "https://localhost:8080/",
     "height": 54
    },
    "id": "Q0_NAMum4v63",
    "outputId": "18f8aafe-f351-444e-9619-56d279a48305"
   },
   "outputs": [
    {
     "name": "stdout",
     "output_type": "stream",
     "text": [
      "The time for evaluation:0:00:00.040164\n"
     ]
    },
    {
     "data": {
      "application/vnd.google.colaboratory.intrinsic+json": {
       "type": "string"
      },
      "text/plain": [
       "'What are you doing'"
      ]
     },
     "execution_count": 51,
     "metadata": {
      "tags": []
     },
     "output_type": "execute_result"
    }
   ],
   "source": [
    "x='wht r u doin?'\n",
    "function1([x])"
   ]
  },
  {
   "cell_type": "code",
   "execution_count": 52,
   "metadata": {
    "id": "yE4ppKYVby3m"
   },
   "outputs": [],
   "source": [
    "def prediction(x):\n",
    "\n",
    "  index_to_words = {id: word for word, id in target_tokenizer.word_index.items()}\n",
    "  index_to_words[0] = '<PAD>'\n",
    "\n",
    "  y=' '.join([index_to_words[prediction] for prediction in np.argmax(x, 1)])\n",
    "  return y\n",
    "def function2(x,y_true):\n",
    "  start = datetime.now()\n",
    "  encoded=source_tokenizer.texts_to_sequences(x)\n",
    "  padded=pad_sequences(encoded,maxlen=43,padding=\"post\")\n",
    "  padded=padded.reshape((*padded.shape,1))\n",
    "  x=model.predict(padded)\n",
    "  y=prediction(x[0])\n",
    "  y=y.split(' ')\n",
    "  y_lst=[]\n",
    "  for i in y:\n",
    "    if i=='<PAD>':\n",
    "      continue\n",
    "    else:\n",
    "      y_lst.append(i)\n",
    "  bleu_score=bleu.sentence_bleu([y_true.split(),],y_lst)\n",
    "  print(\"The time for evaluation:\"+str(datetime.now() - start))\n",
    "  return bleu_score\n"
   ]
  },
  {
   "cell_type": "code",
   "execution_count": 53,
   "metadata": {
    "id": "HgGiY7MC-7w2"
   },
   "outputs": [],
   "source": [
    "x='wht r u doin?'\n",
    "y='What are you doing?'"
   ]
  },
  {
   "cell_type": "code",
   "execution_count": 54,
   "metadata": {
    "colab": {
     "base_uri": "https://localhost:8080/"
    },
    "id": "Avo7nVDW6cSC",
    "outputId": "b217c0fb-a123-4232-cf46-ea2bb60c5284"
   },
   "outputs": [
    {
     "name": "stdout",
     "output_type": "stream",
     "text": [
      "The time for evaluation:0:00:00.040790\n"
     ]
    },
    {
     "name": "stderr",
     "output_type": "stream",
     "text": [
      "/usr/local/lib/python3.7/dist-packages/nltk/translate/bleu_score.py:490: UserWarning: \n",
      "Corpus/Sentence contains 0 counts of 4-gram overlaps.\n",
      "BLEU scores might be undesirable; use SmoothingFunction().\n",
      "  warnings.warn(_msg)\n"
     ]
    },
    {
     "data": {
      "text/plain": [
       "0.7071067811865476"
      ]
     },
     "execution_count": 54,
     "metadata": {
      "tags": []
     },
     "output_type": "execute_result"
    }
   ],
   "source": [
    "import nltk.translate.bleu_score as bleu\n",
    "function2([x],y)"
   ]
  },
  {
   "cell_type": "code",
   "execution_count": 42,
   "metadata": {
    "id": "tJ-KrvoWeey5"
   },
   "outputs": [],
   "source": [
    "#https://github.com/bhattbhavesh91/tflite-tutorials/blob/master/tflite-part-2.ipynb\n",
    "def get_file_size(file_path):\n",
    "    size = os.path.getsize(file_path)\n",
    "    return size"
   ]
  },
  {
   "cell_type": "code",
   "execution_count": 43,
   "metadata": {
    "id": "l9j6_0Mzee1D"
   },
   "outputs": [],
   "source": [
    "def convert_bytes(size, unit=None):\n",
    "    if unit == \"KB\":\n",
    "        return print('File size: ' + str(round(size / 1024, 3)) + ' Kilobytes')\n",
    "    elif unit == \"MB\":\n",
    "        return print('File size: ' + str(round(size / (1024 * 1024), 3)) + ' Megabytes')\n",
    "    else:\n",
    "        return print('File size: ' + str(size) + ' bytes')"
   ]
  },
  {
   "cell_type": "markdown",
   "metadata": {
    "id": "00vq1nqFz4Ky"
   },
   "source": [
    "Before Quantization:"
   ]
  },
  {
   "cell_type": "code",
   "execution_count": 44,
   "metadata": {
    "colab": {
     "base_uri": "https://localhost:8080/"
    },
    "id": "nHbMEWAOee3n",
    "outputId": "2e3091af-6607-4775-9015-4faf56ef0557"
   },
   "outputs": [
    {
     "name": "stdout",
     "output_type": "stream",
     "text": [
      "File size: 20.959 Megabytes\n"
     ]
    }
   ],
   "source": [
    "import os\n",
    "model_name=\"final_model.h5\"\n",
    "model.save(model_name)\n",
    "convert_bytes(get_file_size(model_name),\"MB\")"
   ]
  },
  {
   "cell_type": "markdown",
   "metadata": {
    "id": "p0y8aHqp0KWd"
   },
   "source": [
    "After Quantization:"
   ]
  },
  {
   "cell_type": "code",
   "execution_count": 45,
   "metadata": {
    "colab": {
     "base_uri": "https://localhost:8080/"
    },
    "id": "P8xJE3Tgee5d",
    "outputId": "4ff64199-b225-4a8c-fec9-369b26c3a1e6"
   },
   "outputs": [
    {
     "name": "stderr",
     "output_type": "stream",
     "text": [
      "WARNING:absl:Found untraced functions such as lstm_cell_1_layer_call_fn, lstm_cell_1_layer_call_and_return_conditional_losses, lstm_cell_2_layer_call_fn, lstm_cell_2_layer_call_and_return_conditional_losses, lstm_cell_1_layer_call_fn while saving (showing 5 of 10). These functions will not be directly callable after loading.\n"
     ]
    },
    {
     "name": "stdout",
     "output_type": "stream",
     "text": [
      "INFO:tensorflow:Assets written to: /tmp/tmpqwp9h5wy/assets\n"
     ]
    },
    {
     "name": "stderr",
     "output_type": "stream",
     "text": [
      "INFO:tensorflow:Assets written to: /tmp/tmpqwp9h5wy/assets\n"
     ]
    }
   ],
   "source": [
    "TF_LITE_MODEL_FILE_NAME = \"tf_lite_model.tflite\"\n",
    "\n",
    "tf_lite_converter = tf.lite.TFLiteConverter.from_keras_model(model)\n",
    "tf_lite_converter.optimizations = [tf.lite.Optimize.OPTIMIZE_FOR_SIZE]\n",
    "# tf_lite_converter.optimizations = [tf.lite.Optimize.DEFAULT]\n",
    "# tf_lite_converter.target_spec.supported_types = [tf.float16]\n",
    "tflite_model = tf_lite_converter.convert()"
   ]
  },
  {
   "cell_type": "code",
   "execution_count": 46,
   "metadata": {
    "colab": {
     "base_uri": "https://localhost:8080/"
    },
    "id": "1CXKSqXuee8Y",
    "outputId": "554f1d72-9552-4ef4-de43-4c9db747a946"
   },
   "outputs": [
    {
     "data": {
      "text/plain": [
       "2811504"
      ]
     },
     "execution_count": 46,
     "metadata": {
      "tags": []
     },
     "output_type": "execute_result"
    }
   ],
   "source": [
    "tflite_model_name = TF_LITE_MODEL_FILE_NAME\n",
    "open(tflite_model_name, \"wb\").write(tflite_model)"
   ]
  },
  {
   "cell_type": "code",
   "execution_count": 47,
   "metadata": {
    "colab": {
     "base_uri": "https://localhost:8080/"
    },
    "id": "RTqOv1wZee_x",
    "outputId": "59dae96a-bd9a-407b-cbcb-15be1550c734"
   },
   "outputs": [
    {
     "name": "stdout",
     "output_type": "stream",
     "text": [
      "File size: 2.681 Megabytes\n"
     ]
    }
   ],
   "source": [
    "convert_bytes(get_file_size(TF_LITE_MODEL_FILE_NAME), \"MB\")\n"
   ]
  },
  {
   "cell_type": "markdown",
   "metadata": {},
   "source": [
    "Streamlit DemoVideo Link:-https://youtu.be/Tm5MaWqa7OA"
   ]
  }
 ],
 "metadata": {
  "accelerator": "GPU",
  "colab": {
   "collapsed_sections": [],
   "name": "Final_notebook.ipynb",
   "provenance": []
  },
  "kernelspec": {
   "display_name": "Python 3",
   "language": "python",
   "name": "python3"
  },
  "language_info": {
   "codemirror_mode": {
    "name": "ipython",
    "version": 3
   },
   "file_extension": ".py",
   "mimetype": "text/x-python",
   "name": "python",
   "nbconvert_exporter": "python",
   "pygments_lexer": "ipython3",
   "version": "3.8.5"
  }
 },
 "nbformat": 4,
 "nbformat_minor": 1
}
